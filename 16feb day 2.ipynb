{
 "cells": [
  {
   "cell_type": "code",
   "execution_count": 6,
   "id": "c5983d92",
   "metadata": {},
   "outputs": [
    {
     "data": {
      "text/plain": [
       "'My name is Sunita. I am 33. I live in Mulpani. I am Student.'"
      ]
     },
     "execution_count": 6,
     "metadata": {},
     "output_type": "execute_result"
    }
   ],
   "source": [
    "name = \"Sunita\"\n",
    "age = 33\n",
    "add = \"Mulpani\"\n",
    "job = \"Student\"\n",
    "\n",
    "info = \"My name is \" + name + \". I am \" + str(age) + \". I live in \" + add + \". I am \" + job +\".\"\n",
    "info"
   ]
  },
  {
   "cell_type": "code",
   "execution_count": 9,
   "id": "b97bbf4f",
   "metadata": {},
   "outputs": [
    {
     "name": "stdout",
     "output_type": "stream",
     "text": [
      "enter name = dipen\n",
      "enter age = 34\n",
      "enter add = us\n",
      "enter job = engineer\n"
     ]
    }
   ],
   "source": [
    "name = input(\"enter name = \")\n",
    "age = int(input(\"enter age = \"))\n",
    "add = input(\"enter add = \")\n",
    "job = input(\"enter job = \")\n",
    "\n",
    "info = name + str(age) + add + job"
   ]
  },
  {
   "cell_type": "code",
   "execution_count": null,
   "id": "68618213",
   "metadata": {},
   "outputs": [],
   "source": []
  }
 ],
 "metadata": {
  "kernelspec": {
   "display_name": "Python 3 (ipykernel)",
   "language": "python",
   "name": "python3"
  },
  "language_info": {
   "codemirror_mode": {
    "name": "ipython",
    "version": 3
   },
   "file_extension": ".py",
   "mimetype": "text/x-python",
   "name": "python",
   "nbconvert_exporter": "python",
   "pygments_lexer": "ipython3",
   "version": "3.11.5"
  }
 },
 "nbformat": 4,
 "nbformat_minor": 5
}
