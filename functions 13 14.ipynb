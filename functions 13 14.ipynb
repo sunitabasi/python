{
 "cells": [
  {
   "cell_type": "code",
   "execution_count": null,
   "id": "7253a877",
   "metadata": {},
   "outputs": [],
   "source": [
    "# function\n",
    "# - pre defined function\n",
    "# - user defined function"
   ]
  },
  {
   "cell_type": "code",
   "execution_count": null,
   "id": "cacf7f01",
   "metadata": {},
   "outputs": [],
   "source": [
    "# pre defined function\n",
    "print() int() float() str() list() tuple() set() dict()"
   ]
  },
  {
   "cell_type": "code",
   "execution_count": null,
   "id": "020480b7",
   "metadata": {},
   "outputs": [],
   "source": [
    "#def <function name>:\n",
    "    <operations>\n",
    "#    \n",
    "#function_name()"
   ]
  },
  {
   "cell_type": "code",
   "execution_count": 1,
   "id": "4e904dc2",
   "metadata": {},
   "outputs": [
    {
     "name": "stdout",
     "output_type": "stream",
     "text": [
      "Hello World\n"
     ]
    }
   ],
   "source": [
    "def hello():        # defining a function\n",
    "    print(\"Hello World\")\n",
    "hello()             # caling the function"
   ]
  },
  {
   "cell_type": "code",
   "execution_count": 3,
   "id": "b5f1482c",
   "metadata": {},
   "outputs": [
    {
     "name": "stdout",
     "output_type": "stream",
     "text": [
      "Enter l =5\n",
      "Enter b =6\n",
      "30\n"
     ]
    }
   ],
   "source": [
    "def area():\n",
    "    l = int(input(\"Enter l =\"))       # local variable, it cant be used outside function\n",
    "    b = int(input(\"Enter b =\"))       # local variable\n",
    "    a = l*b\n",
    "    print(a)\n",
    "area()"
   ]
  },
  {
   "cell_type": "code",
   "execution_count": 5,
   "id": "19f800fb",
   "metadata": {},
   "outputs": [
    {
     "name": "stdout",
     "output_type": "stream",
     "text": [
      "Enter l =5\n",
      "Enter b =6\n",
      "30\n"
     ]
    }
   ],
   "source": [
    "def area():\n",
    "    a = l*b\n",
    "    print(a)\n",
    "    \n",
    "l = int(input(\"Enter l =\"))       # global variable, it is used/defined outside function\n",
    "b = int(input(\"Enter b =\"))       # global variable\n",
    "area()"
   ]
  },
  {
   "cell_type": "code",
   "execution_count": null,
   "id": "b7427aac",
   "metadata": {},
   "outputs": [],
   "source": [
    "# function with arguments"
   ]
  },
  {
   "cell_type": "code",
   "execution_count": 10,
   "id": "b526d8de",
   "metadata": {},
   "outputs": [
    {
     "name": "stdout",
     "output_type": "stream",
     "text": [
      "50\n"
     ]
    }
   ],
   "source": [
    "def area(l,b):      #parameter(l,b)\n",
    "    a = l*b\n",
    "    print(a)\n",
    "    \n",
    "area(10,5)      # arguments"
   ]
  },
  {
   "cell_type": "code",
   "execution_count": 11,
   "id": "29248cd5",
   "metadata": {},
   "outputs": [
    {
     "name": "stdout",
     "output_type": "stream",
     "text": [
      "Enter l =5\n",
      "Enter b =10\n",
      "50\n"
     ]
    }
   ],
   "source": [
    "# function with arguments\n",
    "def area(x,y):\n",
    "    a = x*y\n",
    "    print(a)\n",
    "    \n",
    "l = int(input(\"Enter l =\"))       # global variable, it is used/defined outside function\n",
    "b = int(input(\"Enter b =\"))       # global variable\n",
    "area(l,b)"
   ]
  },
  {
   "cell_type": "code",
   "execution_count": 15,
   "id": "2f10849e",
   "metadata": {},
   "outputs": [
    {
     "name": "stdout",
     "output_type": "stream",
     "text": [
      "Enter name =sunita\n",
      "Enter age =50\n",
      "Enter addathmandu\n",
      "Hello World i am sunita.I am fromathmandu.I am 50\n"
     ]
    }
   ],
   "source": [
    "def info(name,age,add):\n",
    "    print(f\"Hello World i am {name}.I am from{add}.I am {age}\")\n",
    "          \n",
    "name = input(\"Enter name =\")\n",
    "age = int(input(\"Enter age =\"))\n",
    "add = input(\"Enter add\")\n",
    "info(name,age,add)"
   ]
  },
  {
   "cell_type": "code",
   "execution_count": 2,
   "id": "2b8f496a",
   "metadata": {},
   "outputs": [
    {
     "name": "stdout",
     "output_type": "stream",
     "text": [
      "Enter name =sunita\n",
      "Enter age =20\n",
      "Enter add =Mulpani\n",
      "Hello World i am sunita.I am fromMulpani.I am 20 years old\n"
     ]
    }
   ],
   "source": [
    "def info(l):\n",
    "    x,y,z = l\n",
    "    print(f\"Hello World i am {x}.I am from{z}.I am {y} years old\")\n",
    "          \n",
    "name = input(\"Enter name =\")\n",
    "age = int(input(\"Enter age =\"))\n",
    "add = input(\"Enter add =\")\n",
    "\n",
    "l = [name,age,add]\n",
    "info(l)"
   ]
  },
  {
   "cell_type": "code",
   "execution_count": 3,
   "id": "3d43dac1",
   "metadata": {},
   "outputs": [
    {
     "name": "stdout",
     "output_type": "stream",
     "text": [
      "C\n",
      "Java\n",
      "C++\n",
      "PHP\n",
      "Python\n"
     ]
    }
   ],
   "source": [
    "# we can define/replace any value to the function and default value can be also called\n",
    "def language(lan = \"Python\"):\n",
    "    print(lan)\n",
    "    \n",
    "language(\"C\")\n",
    "language(\"Java\")\n",
    "language(\"C++\")\n",
    "language(\"PHP\")\n",
    "language()"
   ]
  },
  {
   "cell_type": "code",
   "execution_count": 4,
   "id": "5aa7cfac",
   "metadata": {},
   "outputs": [
    {
     "name": "stdout",
     "output_type": "stream",
     "text": [
      "Volume =  40\n"
     ]
    }
   ],
   "source": [
    "# Return type function  \n",
    "def area():\n",
    "    l = 10\n",
    "    b = 2\n",
    "    a = l*b\n",
    "    return a    #print outside of the function\n",
    "\n",
    "ar = area()\n",
    "h = 2\n",
    "v = ar*h\n",
    "print(\"Volume = \",v)"
   ]
  },
  {
   "cell_type": "code",
   "execution_count": 14,
   "id": "5a2f4318",
   "metadata": {},
   "outputs": [
    {
     "name": "stdout",
     "output_type": "stream",
     "text": [
      "area = 20\n",
      "Volume =  100\n"
     ]
    }
   ],
   "source": [
    "def cal():\n",
    "    l = 10\n",
    "    b = 2\n",
    "    h = 5\n",
    "    a = l*b\n",
    "    v = a*h\n",
    "    return a,v\n",
    "\n",
    "ar = cal()\n",
    "\n",
    "print(\"area =\",area)\n",
    "print(\"Volume = \",volume)"
   ]
  },
  {
   "cell_type": "code",
   "execution_count": 15,
   "id": "669b206c",
   "metadata": {},
   "outputs": [
    {
     "name": "stdout",
     "output_type": "stream",
     "text": [
      "area = 20\n",
      "Volume =  100\n"
     ]
    }
   ],
   "source": [
    "def cal():\n",
    "    l = 10\n",
    "    b = 2\n",
    "    h = 5\n",
    "    a = l*b\n",
    "    v = a*h\n",
    "    return a,v\n",
    "\n",
    "area,volume = cal()\n",
    "\n",
    "print(\"area =\",area)\n",
    "print(\"Volume = \",volume)"
   ]
  },
  {
   "cell_type": "code",
   "execution_count": 16,
   "id": "180461d8",
   "metadata": {},
   "outputs": [
    {
     "name": "stdout",
     "output_type": "stream",
     "text": [
      "Enter l =50\n",
      "Enter b =60\n",
      "Enter h =50\n",
      "area = 3000\n",
      "Volume =  150000\n"
     ]
    }
   ],
   "source": [
    "#return type function with arguments\n",
    "def cal(l,b,h):\n",
    "    a = l*b\n",
    "    v = a*h\n",
    "    return a,v\n",
    "\n",
    "l = int(input(\"Enter l =\"))       \n",
    "b = int(input(\"Enter b =\")) \n",
    "h = int(input(\"Enter h =\"))\n",
    "\n",
    "area,volume = cal(l,b,h)\n",
    "\n",
    "print(\"area =\",area)\n",
    "print(\"Volume = \",volume)"
   ]
  },
  {
   "cell_type": "code",
   "execution_count": 19,
   "id": "66ef22ed",
   "metadata": {},
   "outputs": [
    {
     "name": "stdout",
     "output_type": "stream",
     "text": [
      "Enter a =2\n",
      "Enter b =3\n",
      "Enter + or - or * or / +\n",
      "5\n"
     ]
    }
   ],
   "source": [
    "def add(a,b):\n",
    "    return a+b\n",
    "def sub(a,b):\n",
    "    return a-b\n",
    "def mul(a,b):\n",
    "    return a*b\n",
    "def div(a,b):\n",
    "    return a/b\n",
    "def cal():\n",
    "    a = int(input(\"Enter a =\"))\n",
    "    b = int(input(\"Enter b =\"))\n",
    "    o = input(\"Enter + or - or * or / \")\n",
    "    if o == \"+\":\n",
    "        print(add(a,b))\n",
    "    elif o == \"-\":\n",
    "        print(sub(a,b))\n",
    "    elif o ==\"/\":\n",
    "        print(div(a,b))\n",
    "    elif o ==\"*\":\n",
    "        print(mul(a,b))\n",
    "    else:\n",
    "        print(\"Enter valid operators\")\n",
    "cal()"
   ]
  },
  {
   "cell_type": "code",
   "execution_count": 21,
   "id": "cd282083",
   "metadata": {},
   "outputs": [
    {
     "name": "stdout",
     "output_type": "stream",
     "text": [
      "Enter l =5\n",
      "Enter b =6\n",
      "Enter h =20\n",
      "area = 30\n",
      "Volume =  600\n"
     ]
    }
   ],
   "source": [
    "def cal(l,b,h):\n",
    "    a = l*b\n",
    "    v = a*h\n",
    "    return a,v\n",
    "    \n",
    "    \n",
    "\n",
    "l = int(input(\"Enter l =\"))       \n",
    "b = int(input(\"Enter b =\")) \n",
    "h = int(input(\"Enter h =\"))\n",
    "\n",
    "area,volume = cal(l,b,h)\n",
    "\n",
    "print(\"area =\",area)\n",
    "print(\"Volume = \",volume)"
   ]
  },
  {
   "cell_type": "code",
   "execution_count": null,
   "id": "5301ed58",
   "metadata": {},
   "outputs": [],
   "source": [
    "# recursive function- function that calls itself is called recrusive function\n"
   ]
  },
  {
   "cell_type": "code",
   "execution_count": 25,
   "id": "86506043",
   "metadata": {},
   "outputs": [
    {
     "name": "stdout",
     "output_type": "stream",
     "text": [
      "Hello WOrld\n",
      "Hello WOrld\n"
     ]
    }
   ],
   "source": [
    "def hello():\n",
    "    print(\"Hello WOrld\")\n",
    "    hello()              #call  - if we priint like this it wil run infinite\n",
    "    \n",
    "hello()"
   ]
  },
  {
   "cell_type": "code",
   "execution_count": 29,
   "id": "8eb31743",
   "metadata": {},
   "outputs": [
    {
     "name": "stdout",
     "output_type": "stream",
     "text": [
      "Hello WOrld\n",
      "Enter y for more printy\n",
      "Hello WOrld\n",
      "Enter y for more printy\n",
      "Hello WOrld\n",
      "Enter y for more print2\n"
     ]
    }
   ],
   "source": [
    "def hello():\n",
    "    print(\"Hello WOrld\")\n",
    "    x = input(\"Enter y for more print\")\n",
    "    if x == 'y':\n",
    "        hello()              #call \n",
    "    \n",
    "hello()"
   ]
  },
  {
   "cell_type": "code",
   "execution_count": null,
   "id": "a0eef55c",
   "metadata": {},
   "outputs": [],
   "source": [
    "# lambda function - function having no name (anamious) short/one line of code but used repeteadly for longer time"
   ]
  },
  {
   "cell_type": "code",
   "execution_count": null,
   "id": "c463cfe5",
   "metadata": {},
   "outputs": [],
   "source": [
    "lambda <arguments>:<operation>"
   ]
  },
  {
   "cell_type": "code",
   "execution_count": 30,
   "id": "b7cfc358",
   "metadata": {},
   "outputs": [
    {
     "name": "stdout",
     "output_type": "stream",
     "text": [
      "25\n"
     ]
    }
   ],
   "source": [
    "x = lambda a:a**2    #a - arguments # a**2- operation\n",
    "print(x(5))"
   ]
  },
  {
   "cell_type": "code",
   "execution_count": 31,
   "id": "389c80c0",
   "metadata": {},
   "outputs": [
    {
     "name": "stdout",
     "output_type": "stream",
     "text": [
      "Enter l =2\n",
      "Enter b =5\n",
      "10\n"
     ]
    }
   ],
   "source": [
    "area = lambda l,b:l*b\n",
    "l = int(input(\"Enter l =\"))\n",
    "b = int(input(\"Enter b =\"))\n",
    "print(area(l,b))"
   ]
  },
  {
   "cell_type": "code",
   "execution_count": null,
   "id": "f458f207",
   "metadata": {},
   "outputs": [],
   "source": [
    "# filter() - it has its basic syntax\n",
    "# map() - "
   ]
  },
  {
   "cell_type": "code",
   "execution_count": null,
   "id": "e94f42a9",
   "metadata": {},
   "outputs": [],
   "source": [
    "# filter()\n",
    "#list(filter(lambda <arguments>:<conditions>, list))"
   ]
  },
  {
   "cell_type": "code",
   "execution_count": 33,
   "id": "b970e743",
   "metadata": {},
   "outputs": [
    {
     "name": "stdout",
     "output_type": "stream",
     "text": [
      "[2, 4, 6, 8, 8, 10]\n"
     ]
    }
   ],
   "source": [
    "l = [1,2,3,4,5,6,7,8,8,9,10]\n",
    "x = list(filter(lambda a:a%2==0,l))\n",
    "print(x)"
   ]
  },
  {
   "cell_type": "code",
   "execution_count": null,
   "id": "d5c4bfa2",
   "metadata": {},
   "outputs": [],
   "source": []
  },
  {
   "cell_type": "code",
   "execution_count": 43,
   "id": "5f2ce423",
   "metadata": {},
   "outputs": [
    {
     "data": {
      "text/plain": [
       "['Apple', 'Ball', 'Fish']"
      ]
     },
     "execution_count": 43,
     "metadata": {},
     "output_type": "execute_result"
    }
   ],
   "source": [
    "l = [\"Apple\",\"Ball\",\"cat\",\"dog\",\"Fish\"]\n",
    "list(filter(lambda a: a[0].isupper(),l))"
   ]
  },
  {
   "cell_type": "code",
   "execution_count": 39,
   "id": "013d56af",
   "metadata": {},
   "outputs": [
    {
     "data": {
      "text/plain": [
       "True"
      ]
     },
     "execution_count": 39,
     "metadata": {},
     "output_type": "execute_result"
    }
   ],
   "source": [
    "# to find first character is upper\n",
    "a = \"Apple\"\n",
    "a[0].isupper()"
   ]
  },
  {
   "cell_type": "code",
   "execution_count": 44,
   "id": "06beaea0",
   "metadata": {},
   "outputs": [
    {
     "name": "stdout",
     "output_type": "stream",
     "text": [
      "['Apple', 'Ball', 'Fish']\n"
     ]
    }
   ],
   "source": [
    "l = [\"Apple\",\"Ball\",\"cat\",\"dog\",\"Fish\"]\n",
    "x = list(filter(lambda a: a[0].isupper(),l))\n",
    "print(x)"
   ]
  },
  {
   "cell_type": "code",
   "execution_count": null,
   "id": "a9f96070",
   "metadata": {},
   "outputs": [],
   "source": [
    "# map\n",
    "#list(map(lambda <arguments>:<operation>, list))\n",
    "# upper and lower case is not applicable in list"
   ]
  },
  {
   "cell_type": "code",
   "execution_count": 45,
   "id": "298e410e",
   "metadata": {},
   "outputs": [
    {
     "name": "stdout",
     "output_type": "stream",
     "text": [
      "[1, 4, 9, 16, 25, 36, 49, 64, 64, 81, 100]\n"
     ]
    }
   ],
   "source": [
    "l = [1,2,3,4,5,6,7,8,8,9,10]\n",
    "x = list(map(lambda a:a**2,l))\n",
    "print(x)"
   ]
  },
  {
   "cell_type": "code",
   "execution_count": 46,
   "id": "c787cdf9",
   "metadata": {},
   "outputs": [
    {
     "name": "stdout",
     "output_type": "stream",
     "text": [
      "['APPLE', 'BALL', 'CAT', 'DOG', 'FISH']\n"
     ]
    }
   ],
   "source": [
    "l = [\"Apple\",\"Ball\",\"cat\",\"dog\",\"Fish\"]\n",
    "x = list(map(lambda a: a.upper(),l))\n",
    "print(x)"
   ]
  },
  {
   "cell_type": "code",
   "execution_count": 47,
   "id": "c37cc55a",
   "metadata": {},
   "outputs": [
    {
     "name": "stdout",
     "output_type": "stream",
     "text": [
      "[15848.93192461114, 32815.68660379946, 85885.2342567819, 41479.833943423146, 60829.97329535658, 94240.15197577994, 121514.55657585037, 136801.5174789603]\n"
     ]
    }
   ],
   "source": [
    "l = [10000,20000,50000,25000,36000,54622,69583,77896]\n",
    "x = list(map(lambda a: a**1.05,l))\n",
    "print(x)"
   ]
  },
  {
   "cell_type": "code",
   "execution_count": 50,
   "id": "17c66e77",
   "metadata": {},
   "outputs": [
    {
     "name": "stdout",
     "output_type": "stream",
     "text": [
      "[15848.93, 32815.69, 85885.23, 41479.83, 60829.97, 94240.15, 121514.56, 136801.52]\n"
     ]
    }
   ],
   "source": [
    "l = [10000,20000,50000,25000,36000,54622,69583,77896]\n",
    "x = list(map(lambda a: round(a**1.05,2),l))\n",
    "print(x)"
   ]
  },
  {
   "cell_type": "code",
   "execution_count": null,
   "id": "4f4c18f0",
   "metadata": {},
   "outputs": [],
   "source": [
    "# math function"
   ]
  },
  {
   "cell_type": "code",
   "execution_count": 53,
   "id": "195a887f",
   "metadata": {},
   "outputs": [
    {
     "name": "stdout",
     "output_type": "stream",
     "text": [
      "3.141592653589793\n",
      "2.718281828459045\n"
     ]
    }
   ],
   "source": [
    "import math as m      # as is also an assignment function\n",
    "print(m.pi)\n",
    "print(m.e)\n"
   ]
  },
  {
   "cell_type": "code",
   "execution_count": 55,
   "id": "a56cda79",
   "metadata": {},
   "outputs": [
    {
     "name": "stdout",
     "output_type": "stream",
     "text": [
      "1.0\n",
      "6.123233995736766e-17\n",
      "1.633123935319537e+16\n"
     ]
    }
   ],
   "source": [
    "print(m.sin(m.pi/2))\n",
    "print(m.cos(m.pi/2))\n",
    "print(m.tan(m.pi/2))"
   ]
  },
  {
   "cell_type": "code",
   "execution_count": 66,
   "id": "bf46a54a",
   "metadata": {},
   "outputs": [
    {
     "name": "stdout",
     "output_type": "stream",
     "text": [
      "['HEN', 'MOUSE', 'RABBIT']\n"
     ]
    }
   ],
   "source": [
    "l = ['Ant','Dog',\"Cat\",'HEN','MOUSE','RABBIT']\n",
    "x = list(filter(lambda a: a.isupper(),l))\n",
    "print(x)\n"
   ]
  },
  {
   "cell_type": "code",
   "execution_count": 69,
   "id": "c5be8902",
   "metadata": {},
   "outputs": [
    {
     "name": "stdout",
     "output_type": "stream",
     "text": [
      "['APPLE', 'BALL', 'CAT', 'DOG', 'FISH']\n"
     ]
    }
   ],
   "source": [
    "l = [\"Apple\",\"Ball\",\"cat\",\"dog\",\"Fish\"]\n",
    "x = list(map(lambda a : a.upper(),l))\n",
    "print(x)"
   ]
  },
  {
   "cell_type": "code",
   "execution_count": null,
   "id": "38b3d62a",
   "metadata": {},
   "outputs": [],
   "source": []
  }
 ],
 "metadata": {
  "kernelspec": {
   "display_name": "Python 3 (ipykernel)",
   "language": "python",
   "name": "python3"
  },
  "language_info": {
   "codemirror_mode": {
    "name": "ipython",
    "version": 3
   },
   "file_extension": ".py",
   "mimetype": "text/x-python",
   "name": "python",
   "nbconvert_exporter": "python",
   "pygments_lexer": "ipython3",
   "version": "3.11.5"
  }
 },
 "nbformat": 4,
 "nbformat_minor": 5
}
