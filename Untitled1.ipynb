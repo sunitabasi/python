{
 "cells": [
  {
   "cell_type": "code",
   "execution_count": 12,
   "id": "bf0a1f18",
   "metadata": {},
   "outputs": [
    {
     "name": "stdout",
     "output_type": "stream",
     "text": [
      "['ram', 'Hari', 'Shyam']\n"
     ]
    }
   ],
   "source": [
    "# list\n",
    "names = ['ram','Hari','Shyam','Jhon']\n",
    "print(names[0:3])"
   ]
  },
  {
   "cell_type": "code",
   "execution_count": 13,
   "id": "e719b0db",
   "metadata": {},
   "outputs": [
    {
     "name": "stdout",
     "output_type": "stream",
     "text": [
      "['ram', 'Hari', 'Shyam', 'Jhon', 'Sunita']\n"
     ]
    }
   ],
   "source": [
    "names = ['ram','Hari','Shyam','Jhon']\n",
    "names.append('Sunita')\n",
    "print(names)"
   ]
  },
  {
   "cell_type": "code",
   "execution_count": 14,
   "id": "427a2c4c",
   "metadata": {},
   "outputs": [
    {
     "name": "stdout",
     "output_type": "stream",
     "text": [
      "['Sunita', 'ram', 'Hari', 'Shyam', 'Jhon']\n"
     ]
    }
   ],
   "source": [
    "names = ['ram','Hari','Shyam','Jhon']\n",
    "names.insert(0, 'Sunita')\n",
    "print(names)"
   ]
  },
  {
   "cell_type": "code",
   "execution_count": 16,
   "id": "d29d10a2",
   "metadata": {},
   "outputs": [
    {
     "name": "stdout",
     "output_type": "stream",
     "text": [
      "[['dipen', 'sharmila'], 'ram', 'Hari', 'Shyam', 'Jhon']\n"
     ]
    }
   ],
   "source": [
    "names = ['ram','Hari','Shyam','Jhon']\n",
    "name1 = ['dipen','sharmila']\n",
    "names.insert(0,name1)\n",
    "print(names)\n"
   ]
  },
  {
   "cell_type": "code",
   "execution_count": 18,
   "id": "1d444d2e",
   "metadata": {},
   "outputs": [
    {
     "name": "stdout",
     "output_type": "stream",
     "text": [
      "['ram', 'Hari', 'Shyam', 'Jhon', 'dipen', 'sharmila']\n"
     ]
    }
   ],
   "source": [
    "names = ['ram','Hari','Shyam','Jhon']\n",
    "name1 = ['dipen','sharmila']\n",
    "names.extend(name1)\n",
    "print(names)"
   ]
  },
  {
   "cell_type": "code",
   "execution_count": 19,
   "id": "9d867da9",
   "metadata": {},
   "outputs": [
    {
     "name": "stdout",
     "output_type": "stream",
     "text": [
      "['Hari', 'Shyam', 'Jhon']\n"
     ]
    }
   ],
   "source": [
    "names = ['ram','Hari','Shyam','Jhon']\n",
    "del names[0]\n",
    "print(names)"
   ]
  },
  {
   "cell_type": "code",
   "execution_count": 21,
   "id": "8c28ac72",
   "metadata": {},
   "outputs": [
    {
     "name": "stdout",
     "output_type": "stream",
     "text": [
      "['ram', 'Shyam', 'Jhon']\n"
     ]
    }
   ],
   "source": [
    "names = ['ram','Hari','Shyam','Jhon']\n",
    "names.pop(1)\n",
    "print(names)L"
   ]
  },
  {
   "cell_type": "code",
   "execution_count": 5,
   "id": "d2529cb8",
   "metadata": {},
   "outputs": [
    {
     "name": "stdout",
     "output_type": "stream",
     "text": [
      "light =Blue\n",
      "The light is not working\n"
     ]
    }
   ],
   "source": [
    "# if else\n",
    "light = input(\"light =\")\n",
    "if (light == \"Red\"):\n",
    "    print(\"stop\")\n",
    "elif(light == \"Yellow\"):\n",
    "    print(\"wait\")\n",
    "elif(light == \"Green\"):\n",
    "    print(\"go\")\n",
    "else:\n",
    "    print(\"The light is not working\")"
   ]
  },
  {
   "cell_type": "code",
   "execution_count": 12,
   "id": "ecd136dc",
   "metadata": {},
   "outputs": [
    {
     "name": "stdout",
     "output_type": "stream",
     "text": [
      "Enter marks = 60\n",
      "D\n"
     ]
    }
   ],
   "source": [
    "marks = int(input(\"Enter marks = \"))\n",
    "if(marks >= 90):\n",
    "    print(\"Grade A\")\n",
    "elif(marks >=80 and marks <90):\n",
    "    print(\"B\")\n",
    "elif(marks >=70 and marks <80):\n",
    "    print(\"C\")\n",
    "elif(marks >=60 and marks <70):\n",
    "    print(\"D\")\n",
    "else:\n",
    "    print(\"Fail\")\n",
    "            \n",
    "            "
   ]
  },
  {
   "cell_type": "code",
   "execution_count": null,
   "id": "a3e0d7fc",
   "metadata": {},
   "outputs": [],
   "source": []
  }
 ],
 "metadata": {
  "kernelspec": {
   "display_name": "Python 3 (ipykernel)",
   "language": "python",
   "name": "python3"
  },
  "language_info": {
   "codemirror_mode": {
    "name": "ipython",
    "version": 3
   },
   "file_extension": ".py",
   "mimetype": "text/x-python",
   "name": "python",
   "nbconvert_exporter": "python",
   "pygments_lexer": "ipython3",
   "version": "3.11.5"
  }
 },
 "nbformat": 4,
 "nbformat_minor": 5
}
