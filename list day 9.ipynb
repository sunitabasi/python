{
 "cells": [
  {
   "cell_type": "code",
   "execution_count": null,
   "id": "907b198c",
   "metadata": {},
   "outputs": [],
   "source": [
    "# python data collection\n",
    "#list'\n",
    "#tuple\n",
    "#dict\n",
    "#set\n",
    "\n",
    "\n"
   ]
  },
  {
   "cell_type": "code",
   "execution_count": null,
   "id": "9b56ea4b",
   "metadata": {},
   "outputs": [],
   "source": [
    "#list\n",
    "#-indexing\n",
    "#-multiple and duplicate data\n",
    "#-ordered\n",
    "#-mutable"
   ]
  },
  {
   "cell_type": "code",
   "execution_count": 1,
   "id": "00367f4d",
   "metadata": {},
   "outputs": [
    {
     "name": "stdout",
     "output_type": "stream",
     "text": [
      "<class 'list'>\n",
      "<class 'list'>\n"
     ]
    }
   ],
   "source": [
    "#l = list()\n",
    "l = [\"Apple\", \"Ball\", \"Cat\", \"Dog\"]\n",
    "a = [1,2,3,4,5,6,7,8,9,0]\n",
    "print(type(l))\n",
    "print(type(a))"
   ]
  },
  {
   "cell_type": "code",
   "execution_count": 5,
   "id": "5dfa3cff",
   "metadata": {},
   "outputs": [
    {
     "name": "stdout",
     "output_type": "stream",
     "text": [
      "Apple\n",
      "['Apple', 'Ball', 'Cat', 'Dog']\n",
      "['Apple', 'Cat']\n"
     ]
    }
   ],
   "source": [
    "#eg multiple and duplicate\n",
    "l = [\"Apple\", \"Ball\", \"Cat\", \"Dog\"]\n",
    "print(l[0])\n",
    "print(l[0:4])\n",
    "print(l[0:4:2])"
   ]
  },
  {
   "cell_type": "code",
   "execution_count": 6,
   "id": "a42717c6",
   "metadata": {},
   "outputs": [
    {
     "name": "stdout",
     "output_type": "stream",
     "text": [
      "['Apple', 'Ball', 'Cat', 'Dog']\n"
     ]
    }
   ],
   "source": [
    "#eg ordered\n",
    "l = [\"Apple\", \"Ball\", \"Cat\", \"Dog\"]\n",
    "print(l)"
   ]
  },
  {
   "cell_type": "code",
   "execution_count": 7,
   "id": "a18166f4",
   "metadata": {},
   "outputs": [
    {
     "data": {
      "text/plain": [
       "[1, 2, 3, 4, 5, 6, 7, 8, 9]"
      ]
     },
     "execution_count": 7,
     "metadata": {},
     "output_type": "execute_result"
    }
   ],
   "source": [
    "a = [1,2,3,4]\n",
    "b = [5,6,7,8,9]\n",
    "c = a+b\n",
    "c"
   ]
  },
  {
   "cell_type": "code",
   "execution_count": 9,
   "id": "53e9e5f2",
   "metadata": {},
   "outputs": [
    {
     "name": "stdout",
     "output_type": "stream",
     "text": [
      "[1, 2, 3, 4, 1, 2, 3, 4]\n"
     ]
    }
   ],
   "source": [
    "a = [1,2,3,4]\n",
    "print(a*2)"
   ]
  },
  {
   "cell_type": "code",
   "execution_count": 10,
   "id": "608b8fbc",
   "metadata": {},
   "outputs": [
    {
     "name": "stdout",
     "output_type": "stream",
     "text": [
      "Apple\n",
      "Ball\n",
      "Cat\n",
      "Dog\n"
     ]
    }
   ],
   "source": [
    "l = [\"Apple\", \"Ball\", \"Cat\", \"Dog\"]\n",
    "for i in l:\n",
    "    print(i)"
   ]
  },
  {
   "cell_type": "code",
   "execution_count": 14,
   "id": "9e9c134b",
   "metadata": {},
   "outputs": [
    {
     "name": "stdout",
     "output_type": "stream",
     "text": [
      "Enter search = Apple\n",
      "yes\n",
      "1\n"
     ]
    }
   ],
   "source": [
    "l = [\"Apple\", \"Ball\", \"Cat\", \"Dog\"]\n",
    "search = input(\"Enter search = \")\n",
    "if search in l:\n",
    "    print(\"yes\")\n",
    "    print(l.count(search))\n",
    "else:\n",
    "    print(\"no\")\n"
   ]
  },
  {
   "cell_type": "code",
   "execution_count": null,
   "id": "f42db581",
   "metadata": {},
   "outputs": [],
   "source": [
    "#append()- to add value\n",
    "#extend()\n",
    "#insert()"
   ]
  },
  {
   "cell_type": "code",
   "execution_count": 15,
   "id": "c07feaca",
   "metadata": {},
   "outputs": [
    {
     "name": "stdout",
     "output_type": "stream",
     "text": [
      "['Apple', 'Ball', 'Cat']\n"
     ]
    }
   ],
   "source": [
    "# mutable data type\n",
    "a = []\n",
    "a.append(\"Apple\")\n",
    "a.append(\"Ball\")\n",
    "a.append(\"Cat\")\n",
    "print(a)"
   ]
  },
  {
   "cell_type": "code",
   "execution_count": 18,
   "id": "e679e279",
   "metadata": {},
   "outputs": [
    {
     "name": "stdout",
     "output_type": "stream",
     "text": [
      "Enter n =5\n",
      "Enter x =6\n",
      "Enter x =5\n",
      "Enter x =8\n",
      "Enter x =5\n",
      "Enter x =2\n",
      "[6, 5, 8, 5, 2]\n"
     ]
    }
   ],
   "source": [
    "l = []\n",
    "n = int(input(\"Enter n =\"))\n",
    "for i in range(n):\n",
    "    x = int(input(\"Enter x =\"))\n",
    "    l.append(x)\n",
    "    \n",
    "print(l)\n"
   ]
  },
  {
   "cell_type": "code",
   "execution_count": 22,
   "id": "6f56b45e",
   "metadata": {},
   "outputs": [
    {
     "name": "stdout",
     "output_type": "stream",
     "text": [
      "Maximum value = 96\n",
      "Minimun valut = 96\n",
      "sum of list = 434\n",
      "[12, 14, 25, 55, 65, 82, 85, 96]\n"
     ]
    }
   ],
   "source": [
    "l = [12,85,65,14,25,55,96,82]\n",
    "print(\"Maximum value =\", max(l))\n",
    "print(\"Minimun valut =\", max(l))\n",
    "print(\"sum of list =\",sum(l))\n",
    "l.sort()          # acending order\n",
    "print(l)"
   ]
  },
  {
   "cell_type": "code",
   "execution_count": 25,
   "id": "b41dcc84",
   "metadata": {},
   "outputs": [
    {
     "name": "stdout",
     "output_type": "stream",
     "text": [
      "['APPLE', 'Ant', 'Apple', 'Ball']\n"
     ]
    }
   ],
   "source": [
    "a = [\"Ball\",\"Apple\",\"Ant\",\"APPLE\"]\n",
    "a.sort()\n",
    "print(a)"
   ]
  },
  {
   "cell_type": "code",
   "execution_count": 57,
   "id": "715f18ba",
   "metadata": {},
   "outputs": [
    {
     "name": "stdout",
     "output_type": "stream",
     "text": [
      "['Ball', 'Zebra', 'Apple', 'Ant', 'APPLE']\n"
     ]
    }
   ],
   "source": [
    "a = [\"Ball\",\"Apple\",\"Ant\",\"APPLE\"]\n",
    "a.insert(1,\"Zebra\")\n",
    "\n",
    "print(a)"
   ]
  },
  {
   "cell_type": "code",
   "execution_count": 35,
   "id": "2dabde2d",
   "metadata": {},
   "outputs": [
    {
     "name": "stdout",
     "output_type": "stream",
     "text": [
      "[1, 2, 3, 4, 5, 6, 7, 8, 9, 10, 4, 6, 7, 7]\n"
     ]
    }
   ],
   "source": [
    "a = [1,2,3,4,5]\n",
    "b = [6,7,8,9,10]\n",
    "c = [4,6,7,7]\n",
    "a.extend(b)\n",
    "a.extend(c)\n",
    "print(a)"
   ]
  },
  {
   "cell_type": "code",
   "execution_count": null,
   "id": "4804ccd3",
   "metadata": {},
   "outputs": [],
   "source": [
    "#del=remove index remove()-remove  pop()"
   ]
  },
  {
   "cell_type": "code",
   "execution_count": 44,
   "id": "4561ee28",
   "metadata": {},
   "outputs": [
    {
     "name": "stdout",
     "output_type": "stream",
     "text": [
      "['Apple', 'Ant', 'APPLE']\n"
     ]
    }
   ],
   "source": [
    "a = [\"Ball\",\"Apple\",\"Ant\",\"APPLE\"]\n",
    "del a[0]\n",
    "print(a)"
   ]
  },
  {
   "cell_type": "code",
   "execution_count": 45,
   "id": "e02290f0",
   "metadata": {},
   "outputs": [
    {
     "name": "stdout",
     "output_type": "stream",
     "text": [
      "['APPLE']\n"
     ]
    }
   ],
   "source": [
    "a = [\"Ball\",\"Apple\",\"Ant\",\"APPLE\"]\n",
    "del a[0:3]\n",
    "print(a)"
   ]
  },
  {
   "cell_type": "code",
   "execution_count": 52,
   "id": "364eecdb",
   "metadata": {},
   "outputs": [
    {
     "name": "stdout",
     "output_type": "stream",
     "text": [
      "['Apple', 'Ant', 'APPLE']\n"
     ]
    }
   ],
   "source": [
    "a = [\"Ball\",\"Apple\",\"Ant\",\"APPLE\",\"Ball\"]\n",
    "c = a.count(\"Ball\")\n",
    "for i in range(c):\n",
    "    a.remove(\"Ball\")\n",
    "print(a)"
   ]
  },
  {
   "cell_type": "code",
   "execution_count": 54,
   "id": "9dac5368",
   "metadata": {},
   "outputs": [
    {
     "name": "stdout",
     "output_type": "stream",
     "text": [
      "0\n",
      "4\n"
     ]
    }
   ],
   "source": [
    "#find the index of ball\n",
    "a = [\"Ball\",\"Apple\",\"Ant\",\"APPLE\",\"Ball\"]\n",
    "c = len(a)\n",
    "for i in range(c):\n",
    "    if \"Ball\"== a[i]:\n",
    "        print(i)\n",
    "    \n",
    "    \n"
   ]
  },
  {
   "cell_type": "code",
   "execution_count": null,
   "id": "debd2824",
   "metadata": {},
   "outputs": [],
   "source": [
    "# list inside list"
   ]
  },
  {
   "cell_type": "code",
   "execution_count": 58,
   "id": "dc515733",
   "metadata": {},
   "outputs": [
    {
     "name": "stdout",
     "output_type": "stream",
     "text": [
      "[[1, 2, 3], [4, 5, 6], [7, 8, 9]]\n"
     ]
    }
   ],
   "source": [
    "a = [[1,2,3,],\n",
    "    [4,5,6,],\n",
    "    [7,8,9]]\n",
    "print(a)\n"
   ]
  },
  {
   "cell_type": "code",
   "execution_count": 63,
   "id": "d8832ebc",
   "metadata": {},
   "outputs": [
    {
     "name": "stdout",
     "output_type": "stream",
     "text": [
      "[['Ram ', 45, 'Kathmendu'], ['Shyam', 55, 'Bhaktapur'], ['Hari', 88, 'Lalitpur']]\n"
     ]
    }
   ],
   "source": [
    "a = [[\"Ram \",45,\"Kathmendu\"],\n",
    "    [\"Shyam\",55,\"Bhaktapur\"],\n",
    "    ['Hari',88,'Lalitpur']]\n",
    "print(a)"
   ]
  },
  {
   "cell_type": "code",
   "execution_count": 64,
   "id": "17953e84",
   "metadata": {},
   "outputs": [
    {
     "name": "stdout",
     "output_type": "stream",
     "text": [
      "['Ram ', 45, 'Kathmendu']\n"
     ]
    }
   ],
   "source": [
    "print(a[0])"
   ]
  },
  {
   "cell_type": "code",
   "execution_count": 67,
   "id": "96c818be",
   "metadata": {},
   "outputs": [
    {
     "name": "stdout",
     "output_type": "stream",
     "text": [
      "Kathmendu\n"
     ]
    }
   ],
   "source": [
    "print(a[0][2])"
   ]
  },
  {
   "cell_type": "code",
   "execution_count": 71,
   "id": "2e377ca7",
   "metadata": {},
   "outputs": [
    {
     "name": "stdout",
     "output_type": "stream",
     "text": [
      "Enter the value of n :2\n",
      "Enter name :sunita\n",
      "Enter age :22\n",
      "Enter add :kat\n",
      "Enter name :dipen\n",
      "Enter age :55\n",
      "Enter add :lal\n",
      "[['sunita', 22, 'kat'], ['dipen', 55, 'lal']]\n"
     ]
    }
   ],
   "source": [
    "l = []\n",
    "n = int(input('Enter the value of n :'))\n",
    "for i in range(n):\n",
    "    name = input('Enter name :')\n",
    "    age = int(input('Enter age :'))\n",
    "    add = input('Enter add :')\n",
    "    x = [name,age,add]\n",
    "    l.append(x)\n",
    "    \n",
    "print(l)\n",
    "    "
   ]
  },
  {
   "cell_type": "code",
   "execution_count": 72,
   "id": "30e6dc76",
   "metadata": {},
   "outputs": [
    {
     "name": "stdout",
     "output_type": "stream",
     "text": [
      "[['Ram ', 45, 'Kathmendu'], ['Shyam', 55, 'Bhaktapur'], ['sunita', 22, 'kapan']]\n"
     ]
    }
   ],
   "source": [
    "a = [[\"Ram \",45,\"Kathmendu\"],[\"Shyam\",55,\"Bhaktapur\"]]\n",
    "a.append(['sunita',22,'kapan'])\n",
    "print(a)"
   ]
  },
  {
   "cell_type": "code",
   "execution_count": 74,
   "id": "7609b110",
   "metadata": {},
   "outputs": [
    {
     "ename": "SyntaxError",
     "evalue": "cannot delete function call (397210450.py, line 1)",
     "output_type": "error",
     "traceback": [
      "\u001b[1;36m  Cell \u001b[1;32mIn[74], line 1\u001b[1;36m\u001b[0m\n\u001b[1;33m    del a(2)\u001b[0m\n\u001b[1;37m        ^\u001b[0m\n\u001b[1;31mSyntaxError\u001b[0m\u001b[1;31m:\u001b[0m cannot delete function call\n"
     ]
    }
   ],
   "source": []
  },
  {
   "cell_type": "code",
   "execution_count": 20,
   "id": "36e6c79c",
   "metadata": {},
   "outputs": [
    {
     "ename": "IndentationError",
     "evalue": "expected an indented block after 'if' statement on line 7 (19123640.py, line 8)",
     "output_type": "error",
     "traceback": [
      "\u001b[1;36m  Cell \u001b[1;32mIn[20], line 8\u001b[1;36m\u001b[0m\n\u001b[1;33m    print(i)\u001b[0m\n\u001b[1;37m            ^\u001b[0m\n\u001b[1;31mIndentationError\u001b[0m\u001b[1;31m:\u001b[0m expected an indented block after 'if' statement on line 7\n"
     ]
    }
   ],
   "source": [
    "# search\n",
    "l = [[\"Ram \",45,\"Kathmendu\"],\n",
    "    [\"Shyam\",55,\"Bhaktapur\"],\n",
    "    ['Hari',88,'Lalitpur']]\n",
    "name = input(\"Enter name =\")\n",
    "for i in l:\n",
    "    if name in i:\n",
    "        print(i)\n",
    "    "
   ]
  },
  {
   "cell_type": "code",
   "execution_count": 1,
   "id": "e8aaa452",
   "metadata": {},
   "outputs": [
    {
     "data": {
      "text/plain": [
       "['Rama', 45, 'Kathmendu']"
      ]
     },
     "execution_count": 1,
     "metadata": {},
     "output_type": "execute_result"
    }
   ],
   "source": [
    "#update\n",
    "\n",
    "l = [\"Ram \",45,\"Kathmendu\"]\n",
    "l[0] = \"Rama\"\n",
    "l\n"
   ]
  },
  {
   "cell_type": "code",
   "execution_count": 5,
   "id": "3eafdd6b",
   "metadata": {},
   "outputs": [
    {
     "data": {
      "text/plain": [
       "[['Rama', 45, 'Kathmendu'],\n",
       " ['Shyam', 55, 'Bhaktapur'],\n",
       " ['Hari', 88, 'Lalitpur']]"
      ]
     },
     "execution_count": 5,
     "metadata": {},
     "output_type": "execute_result"
    }
   ],
   "source": [
    "l = [[\"Ram \",45,\"Kathmendu\"],\n",
    "    [\"Shyam\",55,\"Bhaktapur\"],\n",
    "    ['Hari',88,'Lalitpur']]\n",
    "l[0][0] = 'Rama'\n",
    "l\n"
   ]
  },
  {
   "cell_type": "code",
   "execution_count": 6,
   "id": "a3550fba",
   "metadata": {},
   "outputs": [
    {
     "data": {
      "text/plain": [
       "[['Ram ', 45, 'Kathmendu'], ['Shyam', 55, 55], ['Hari', 88, 'Lalitpur']]"
      ]
     },
     "execution_count": 6,
     "metadata": {},
     "output_type": "execute_result"
    }
   ],
   "source": [
    "l = [[\"Ram \",45,\"Kathmendu\"],\n",
    "    [\"Shyam\",55,\"Bhaktapur\"],\n",
    "    ['Hari',88,'Lalitpur']]\n",
    "l[1][2] = 55\n",
    "l"
   ]
  },
  {
   "cell_type": "code",
   "execution_count": null,
   "id": "2875108f",
   "metadata": {},
   "outputs": [],
   "source": [
    "# to create a matrix by taking input form user\n",
    "#row\n",
    "#column\n",
    "#value"
   ]
  },
  {
   "cell_type": "code",
   "execution_count": 2,
   "id": "20da2576",
   "metadata": {},
   "outputs": [
    {
     "name": "stdout",
     "output_type": "stream",
     "text": [
      "Enter r =2\n",
      "Enter c =2\n",
      "Enter z =5\n",
      "Enter z =2\n",
      "Enter z =2\n",
      "Enter z =2\n",
      "[[5, 2], [2, 2]]\n"
     ]
    }
   ],
   "source": [
    "x = []\n",
    "r = int(input('Enter r ='))\n",
    "c = int(input('Enter c ='))\n",
    "for i in range(r):\n",
    "    y = []\n",
    "    for j in range(c):\n",
    "        z = int(input('Enter z ='))\n",
    "        y.append(z)\n",
    "    x.append(y)\n",
    "print(x)\n",
    "        \n"
   ]
  },
  {
   "cell_type": "code",
   "execution_count": 5,
   "id": "c3e86d95",
   "metadata": {},
   "outputs": [
    {
     "name": "stdout",
     "output_type": "stream",
     "text": [
      "['sun', 'moon', 'star', 'earth']\n"
     ]
    }
   ],
   "source": [
    "l = list((\"sun\",\"moon\",\"star\",\"earth\"))\n",
    "print(l)"
   ]
  },
  {
   "cell_type": "code",
   "execution_count": 14,
   "id": "a4332b33",
   "metadata": {},
   "outputs": [
    {
     "name": "stdout",
     "output_type": "stream",
     "text": [
      "Enter r =DAL\n",
      "Enter c =BHAT\n"
     ]
    },
    {
     "ename": "TypeError",
     "evalue": "'str' object cannot be interpreted as an integer",
     "output_type": "error",
     "traceback": [
      "\u001b[1;31m---------------------------------------------------------------------------\u001b[0m",
      "\u001b[1;31mTypeError\u001b[0m                                 Traceback (most recent call last)",
      "Cell \u001b[1;32mIn[14], line 4\u001b[0m\n\u001b[0;32m      2\u001b[0m r \u001b[38;5;241m=\u001b[39m \u001b[38;5;28minput\u001b[39m(\u001b[38;5;124m\"\u001b[39m\u001b[38;5;124mEnter r =\u001b[39m\u001b[38;5;124m\"\u001b[39m)\n\u001b[0;32m      3\u001b[0m c \u001b[38;5;241m=\u001b[39m \u001b[38;5;28minput\u001b[39m(\u001b[38;5;124m\"\u001b[39m\u001b[38;5;124mEnter c =\u001b[39m\u001b[38;5;124m\"\u001b[39m)\n\u001b[1;32m----> 4\u001b[0m \u001b[38;5;28;01mfor\u001b[39;00m i \u001b[38;5;129;01min\u001b[39;00m \u001b[38;5;28mrange\u001b[39m(r):\n\u001b[0;32m      5\u001b[0m     y \u001b[38;5;241m=\u001b[39m []\n\u001b[0;32m      6\u001b[0m     \u001b[38;5;28;01mfor\u001b[39;00m j \u001b[38;5;129;01min\u001b[39;00m \u001b[38;5;28mrange\u001b[39m(c):\n",
      "\u001b[1;31mTypeError\u001b[0m: 'str' object cannot be interpreted as an integer"
     ]
    }
   ],
   "source": [
    "a = []\n",
    "r = input(\"Enter r =\")\n",
    "c = input(\"Enter c =\")\n",
    "for i in range(r):\n",
    "    y = []\n",
    "    for j in range(c):\n",
    "        food = input(\"food =\")\n",
    "        y.append(\"food\")\n",
    "    a.append(y)\n",
    "print(a)"
   ]
  },
  {
   "cell_type": "code",
   "execution_count": null,
   "id": "290e23f6",
   "metadata": {},
   "outputs": [],
   "source": []
  }
 ],
 "metadata": {
  "kernelspec": {
   "display_name": "Python 3 (ipykernel)",
   "language": "python",
   "name": "python3"
  },
  "language_info": {
   "codemirror_mode": {
    "name": "ipython",
    "version": 3
   },
   "file_extension": ".py",
   "mimetype": "text/x-python",
   "name": "python",
   "nbconvert_exporter": "python",
   "pygments_lexer": "ipython3",
   "version": "3.11.5"
  }
 },
 "nbformat": 4,
 "nbformat_minor": 5
}
