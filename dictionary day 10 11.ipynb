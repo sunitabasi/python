{
 "cells": [
  {
   "cell_type": "code",
   "execution_count": null,
   "id": "9975bb67",
   "metadata": {},
   "outputs": [],
   "source": [
    "#dictionary\n",
    "# indexing\n",
    "# ordered\n",
    "# multiple and duplicate data # key value should not be multiple\n",
    "# mutable"
   ]
  },
  {
   "cell_type": "code",
   "execution_count": null,
   "id": "ebf7b330",
   "metadata": {},
   "outputs": [],
   "source": [
    "d = {<key>:<value>, <key>:<value>,....}"
   ]
  },
  {
   "cell_type": "code",
   "execution_count": 4,
   "id": "8fbfceaf",
   "metadata": {},
   "outputs": [
    {
     "name": "stdout",
     "output_type": "stream",
     "text": [
      "{'a': 'Apple', 'b': 'Ball', 'c': 'Cat'}\n",
      "<class 'dict'>\n",
      "Apple\n"
     ]
    }
   ],
   "source": [
    "d = {'a':'Apple','b':'Ball','c':'Cat'}\n",
    "print(d)\n",
    "print(type(d))\n",
    "print(d['a'])"
   ]
  },
  {
   "cell_type": "code",
   "execution_count": 8,
   "id": "09be4857",
   "metadata": {},
   "outputs": [
    {
     "name": "stdout",
     "output_type": "stream",
     "text": [
      "{'a': 'Apple', 'b': 'Ball', 'c': 'Cat', 1: 1, 2: 2, 3: 3, 4: 4}\n"
     ]
    }
   ],
   "source": [
    "d = {'a':'Apple','b':'Ball','c':'Cat'}\n",
    "e = {1:1,2:2,3:3,4:4}\n",
    "d.update(e)\n",
    "print(d)"
   ]
  },
  {
   "cell_type": "code",
   "execution_count": 11,
   "id": "38e9d06d",
   "metadata": {},
   "outputs": [
    {
     "name": "stdout",
     "output_type": "stream",
     "text": [
      "abc"
     ]
    }
   ],
   "source": [
    "d = {'a':'Apple','b':'Ball','c':'Cat'}\n",
    "for i in d:\n",
    "    print(i, end =\"\")"
   ]
  },
  {
   "cell_type": "code",
   "execution_count": 12,
   "id": "d8b5d305",
   "metadata": {},
   "outputs": [
    {
     "name": "stdout",
     "output_type": "stream",
     "text": [
      "AppleBallCat"
     ]
    }
   ],
   "source": [
    "d = {'a':'Apple','b':'Ball','c':'Cat'}\n",
    "for i in d.values():\n",
    "    print(i, end =\"\")"
   ]
  },
  {
   "cell_type": "code",
   "execution_count": 13,
   "id": "d813c942",
   "metadata": {},
   "outputs": [
    {
     "name": "stdout",
     "output_type": "stream",
     "text": [
      "('a', 'Apple')('b', 'Ball')('c', 'Cat')"
     ]
    }
   ],
   "source": [
    "d = {'a':'Apple','b':'Ball','c':'Cat'}\n",
    "for i in d.items():\n",
    "    print(i, end =\"\")"
   ]
  },
  {
   "cell_type": "code",
   "execution_count": 14,
   "id": "177d45b9",
   "metadata": {},
   "outputs": [
    {
     "name": "stdout",
     "output_type": "stream",
     "text": [
      "{'a': 'Apple', 'b': 'Ball', 'c': 'Cat'}\n"
     ]
    }
   ],
   "source": [
    "# create\n",
    "d = {}\n",
    "d['a'] = 'Apple'\n",
    "d['b'] = 'Ball'\n",
    "d['c'] = 'Cat'\n",
    "print(d)"
   ]
  },
  {
   "cell_type": "code",
   "execution_count": 15,
   "id": "f0c76d59",
   "metadata": {},
   "outputs": [
    {
     "data": {
      "text/plain": [
       "'Apple'"
      ]
     },
     "execution_count": 15,
     "metadata": {},
     "output_type": "execute_result"
    }
   ],
   "source": [
    "d = {'a':'Apple','b':'Ball','c':'Cat'}\n",
    "d['a']"
   ]
  },
  {
   "cell_type": "code",
   "execution_count": 17,
   "id": "4ad04613",
   "metadata": {},
   "outputs": [
    {
     "name": "stdout",
     "output_type": "stream",
     "text": [
      "{'a': 'Ant', 'b': 'Ball', 'c': 'Cat'}\n"
     ]
    }
   ],
   "source": [
    "# replace the value, #update\n",
    "d = {'a':'Apple','b':'Ball','c':'Cat'}\n",
    "d['a'] = 'Ant'\n",
    "print(d)"
   ]
  },
  {
   "cell_type": "code",
   "execution_count": 18,
   "id": "f27679ae",
   "metadata": {},
   "outputs": [
    {
     "data": {
      "text/plain": [
       "{'b': 'Ball', 'c': 'Cat'}"
      ]
     },
     "execution_count": 18,
     "metadata": {},
     "output_type": "execute_result"
    }
   ],
   "source": [
    "#del # pop()\n",
    "d = {'a':'Apple','b':'Ball','c':'Cat'}\n",
    "del d['a']\n",
    "d"
   ]
  },
  {
   "cell_type": "code",
   "execution_count": 21,
   "id": "0c689275",
   "metadata": {},
   "outputs": [
    {
     "data": {
      "text/plain": [
       "{'b': 'Ball', 'c': 'Cat'}"
      ]
     },
     "execution_count": 21,
     "metadata": {},
     "output_type": "execute_result"
    }
   ],
   "source": [
    "d = {'a':'Apple','b':'Ball','c':'Cat'}\n",
    "d.pop('a')\n",
    "d"
   ]
  },
  {
   "cell_type": "code",
   "execution_count": 24,
   "id": "4bae59b8",
   "metadata": {},
   "outputs": [
    {
     "name": "stdout",
     "output_type": "stream",
     "text": [
      "Apple\n",
      "{'b': 'Ball', 'c': 'Cat'}\n"
     ]
    }
   ],
   "source": [
    "# value of a moves to b\n",
    "d = {'a':'Apple','b':'Ball','c':'Cat'}\n",
    "b = d.pop('a')\n",
    "print(b)\n",
    "print(d)\n"
   ]
  },
  {
   "cell_type": "code",
   "execution_count": 25,
   "id": "c6d9a8bd",
   "metadata": {},
   "outputs": [
    {
     "data": {
      "text/plain": [
       "{'Ram': 98465, 'Shyam': 981111, 'Hari': 9333333}"
      ]
     },
     "execution_count": 25,
     "metadata": {},
     "output_type": "execute_result"
    }
   ],
   "source": [
    "# list inside dictionary\n",
    "info = {'Ram': 98465,'Shyam':981111,'Hari':9333333}\n",
    "info"
   ]
  },
  {
   "cell_type": "code",
   "execution_count": 27,
   "id": "e252e0e7",
   "metadata": {},
   "outputs": [
    {
     "data": {
      "text/plain": [
       "98465"
      ]
     },
     "execution_count": 27,
     "metadata": {},
     "output_type": "execute_result"
    }
   ],
   "source": [
    "info = {'Ram': 98465,'Shyam':981111,'Hari':9333333}\n",
    "info['Ram']"
   ]
  },
  {
   "cell_type": "code",
   "execution_count": 28,
   "id": "8d3b1cbf",
   "metadata": {},
   "outputs": [
    {
     "data": {
      "text/plain": [
       "[1, 2]"
      ]
     },
     "execution_count": 28,
     "metadata": {},
     "output_type": "execute_result"
    }
   ],
   "source": [
    "info = {'Ram': [1,2],'Shyam':[1,2],'Hari':[1,2]}\n",
    "info['Ram']"
   ]
  },
  {
   "cell_type": "code",
   "execution_count": 38,
   "id": "af7b4bdf",
   "metadata": {},
   "outputs": [
    {
     "name": "stdout",
     "output_type": "stream",
     "text": [
      "[3, 2]\n"
     ]
    }
   ],
   "source": [
    "print(info[\"Ram\"])"
   ]
  },
  {
   "cell_type": "code",
   "execution_count": 42,
   "id": "825cf0bc",
   "metadata": {},
   "outputs": [
    {
     "data": {
      "text/plain": [
       "{'Ram': [2], 'Shyam': [1, 2], 'Hari': [1, 2]}"
      ]
     },
     "execution_count": 42,
     "metadata": {},
     "output_type": "execute_result"
    }
   ],
   "source": [
    "info = {'Ram': [1,2],'Shyam':[1,2],'Hari':[1,2]}\n",
    "del info['Ram'][0]\n",
    "info"
   ]
  },
  {
   "cell_type": "code",
   "execution_count": 5,
   "id": "ff9bc3a7",
   "metadata": {},
   "outputs": [
    {
     "name": "stdout",
     "output_type": "stream",
     "text": [
      "Enter the value =2\n",
      "Enter the value = sunita\n",
      "Enter ntc num =9\n",
      "Enter ncell num7\n",
      "{'sunita': ['9', '7']}\n",
      "Enter the value = dipen\n",
      "Enter ntc num =9\n",
      "Enter ncell num8\n",
      "{'sunita': ['9', '7'], 'dipen': ['9', '8']}\n"
     ]
    }
   ],
   "source": [
    "d = {}\n",
    "n = int(input(\"Enter the value =\"))\n",
    "for i in range(n):\n",
    "    name = input(\"Enter the value = \")\n",
    "    ntc = input(\"Enter ntc num =\")\n",
    "    ncell = input(\"Enter ncell num\")\n",
    "    d[name] = [ntc,ncell]\n",
    "    print(d)\n",
    "    "
   ]
  },
  {
   "cell_type": "code",
   "execution_count": 20,
   "id": "1d337d33",
   "metadata": {},
   "outputs": [
    {
     "name": "stdout",
     "output_type": "stream",
     "text": [
      "Enter value = 2\n",
      "enter bio =group a\n",
      "Enter value = sunita\n",
      "enter ntc no = 98\n",
      "enter ncell no =97\n",
      "{'group a': ['sunita', '98', '97']}\n",
      "enter bio =group b\n",
      "Enter value = dipen\n",
      "enter ntc no = 98\n",
      "enter ncell no =97\n",
      "{'group a': ['sunita', '98', '97'], 'group b': ['dipen', '98', '97']}\n"
     ]
    }
   ],
   "source": [
    "d = {}\n",
    "n = int(input(\"Enter value = \"))\n",
    "for i in range(n):\n",
    "    bio = input(\"enter bio =\")\n",
    "    name = input(\"Enter value = \")\n",
    "    ntc = input(\"enter ntc no = \")\n",
    "    ncell = input(\"enter ncell no =\")\n",
    "    d[bio] = [name,ntc,ncell]\n",
    "    print(d)\n",
    "    "
   ]
  },
  {
   "cell_type": "code",
   "execution_count": 10,
   "id": "030ec0ae",
   "metadata": {},
   "outputs": [
    {
     "name": "stdout",
     "output_type": "stream",
     "text": [
      "Enter value = 2\n",
      "Enter value = ram\n",
      "enter ntc no = 98\n",
      "enter ncell no =97\n",
      "Enter value = sita\n",
      "enter ntc no = 98\n",
      "enter ncell no =97\n",
      "{'name': ['ram', 'sita'], 'ntc': ['98', '98'], 'ncell': ['97', '97']}\n",
      "{'name': ['ram', 'sita'], 'ntc': ['98', '98'], 'ncell': ['97', '97']}\n"
     ]
    }
   ],
   "source": [
    "d = {'name':[],'ntc':[], 'ncell':[]}\n",
    "n = int(input(\"Enter value = \"))\n",
    "for i in range(n):\n",
    "    name = input(\"Enter value = \")\n",
    "    ntc = input(\"enter ntc no = \")\n",
    "    ncell = input(\"enter ncell no =\")\n",
    "    d['name'].append(name)\n",
    "    d['ntc'].append(ntc)\n",
    "    d['ncell'].append(ncell)\n",
    "    \n",
    "print(d)\n",
    "       \n",
    "      \n"
   ]
  },
  {
   "cell_type": "code",
   "execution_count": 12,
   "id": "b63b497f",
   "metadata": {},
   "outputs": [
    {
     "name": "stdout",
     "output_type": "stream",
     "text": [
      "[{'name': 'Ram', 'age': 34, 'add': 'kathmandu'}, {'name': 'Shyam', 'age': 66, 'add': 'bhaktapur'}, {'name': 'Hari', 'age': 39, 'add': 'Lalitpur'}, {'name': 'Gopi', 'age': 36, 'add': 'kathmandu'}]\n"
     ]
    }
   ],
   "source": [
    "# dict inside list\n",
    "d = [{'name':'Ram', 'age': 34,'add':'kathmandu'},\n",
    "    {'name':'Shyam', 'age': 66,'add':'bhaktapur'},\n",
    "    {'name':'Hari', 'age': 39,'add':'Lalitpur'},\n",
    "    {'name':'Gopi', 'age': 36,'add':'kathmandu'}]\n",
    "print(d)"
   ]
  },
  {
   "cell_type": "code",
   "execution_count": 13,
   "id": "459cd1b6",
   "metadata": {},
   "outputs": [
    {
     "name": "stdout",
     "output_type": "stream",
     "text": [
      "{'name': 'Ram', 'age': 34, 'add': 'kathmandu'}\n"
     ]
    }
   ],
   "source": [
    "print(d[0])"
   ]
  },
  {
   "cell_type": "code",
   "execution_count": 15,
   "id": "2f9202fe",
   "metadata": {},
   "outputs": [
    {
     "name": "stdout",
     "output_type": "stream",
     "text": [
      "Ram\n"
     ]
    }
   ],
   "source": [
    "print(d[0]['name'])"
   ]
  },
  {
   "cell_type": "code",
   "execution_count": 19,
   "id": "5c2e8fc9",
   "metadata": {},
   "outputs": [
    {
     "name": "stdout",
     "output_type": "stream",
     "text": [
      "Enter value = 2\n",
      "Enter value = sunita\n",
      "enter ntc no = 98\n",
      "enter ncell no =98\n",
      "Enter value = su\n",
      "enter ntc no = 98\n",
      "enter ncell no =97\n",
      "{'name': 'su', 'ntc': '98', 'ncell': '97'}\n",
      "[{'name': 'sunita', 'ntc': '98', 'ncell': '98'}, {'name': 'su', 'ntc': '98', 'ncell': '97'}]\n"
     ]
    }
   ],
   "source": [
    "l = []\n",
    "n = int(input(\"Enter value = \"))\n",
    "for i in range(n):\n",
    "    name = input(\"Enter value = \")\n",
    "    ntc = input(\"enter ntc no = \")\n",
    "    ncell = input(\"enter ncell no =\")\n",
    "    d = {'name':name, 'ntc':ntc, 'ncell':ncell}\n",
    "    l.append(d)\n",
    "print(d)\n",
    "print(l)"
   ]
  },
  {
   "cell_type": "code",
   "execution_count": 21,
   "id": "f272b6ec",
   "metadata": {},
   "outputs": [
    {
     "name": "stdout",
     "output_type": "stream",
     "text": [
      "{'name': 'sunita', 'ntc': '98', 'ncell': '98'}\n"
     ]
    }
   ],
   "source": [
    "print(l[0])"
   ]
  },
  {
   "cell_type": "code",
   "execution_count": 24,
   "id": "ec9809ca",
   "metadata": {},
   "outputs": [
    {
     "data": {
      "text/plain": [
       "'sunita'"
      ]
     },
     "execution_count": 24,
     "metadata": {},
     "output_type": "execute_result"
    }
   ],
   "source": [
    "l[0]['name']"
   ]
  },
  {
   "cell_type": "code",
   "execution_count": 25,
   "id": "6e671a56",
   "metadata": {},
   "outputs": [
    {
     "data": {
      "text/plain": [
       "[{'name': 'su', 'ntc': '98', 'ncell': '97'}]"
      ]
     },
     "execution_count": 25,
     "metadata": {},
     "output_type": "execute_result"
    }
   ],
   "source": [
    "del l[0]\n",
    "l"
   ]
  },
  {
   "cell_type": "code",
   "execution_count": 26,
   "id": "dbede652",
   "metadata": {},
   "outputs": [
    {
     "data": {
      "text/plain": [
       "{1: {'name': 'Ram', 'age': 36, 'add': 'Kathmandu'},\n",
       " 2: {'name': 'Shyam', 'age': 66, 'add': 'bhaktapur'},\n",
       " 3: {'name': 'Hari', 'age': 39, 'add': 'Lalitpur'},\n",
       " 4: {'name': 'Gopi', 'age': 36, 'add': 'kathmandu'}}"
      ]
     },
     "execution_count": 26,
     "metadata": {},
     "output_type": "execute_result"
    }
   ],
   "source": [
    "# dict inside dict\n",
    "\n",
    "info = {1:{'name':'Ram','age':36,'add':'Kathmandu'},\n",
    "        2:{'name':'Shyam', 'age': 66,'add':'bhaktapur'},\n",
    "        3:{'name':'Hari', 'age': 39,'add':'Lalitpur'},\n",
    "        4:{'name':'Gopi', 'age': 36,'add':'kathmandu'}}\n",
    "info"
   ]
  },
  {
   "cell_type": "code",
   "execution_count": 27,
   "id": "63ec4760",
   "metadata": {},
   "outputs": [
    {
     "data": {
      "text/plain": [
       "{'name': 'Ram', 'age': 36, 'add': 'Kathmandu'}"
      ]
     },
     "execution_count": 27,
     "metadata": {},
     "output_type": "execute_result"
    }
   ],
   "source": [
    "info[1]"
   ]
  },
  {
   "cell_type": "code",
   "execution_count": 28,
   "id": "9affba3e",
   "metadata": {},
   "outputs": [
    {
     "data": {
      "text/plain": [
       "'Ram'"
      ]
     },
     "execution_count": 28,
     "metadata": {},
     "output_type": "execute_result"
    }
   ],
   "source": [
    "info[1][\"name\"]"
   ]
  },
  {
   "cell_type": "code",
   "execution_count": 31,
   "id": "66c77f4a",
   "metadata": {},
   "outputs": [
    {
     "data": {
      "text/plain": [
       "{1: {'age': 36, 'add': 'Kathmandu'},\n",
       " 2: {'name': 'Shyam', 'age': 66, 'add': 'bhaktapur'},\n",
       " 3: {'name': 'Hari', 'age': 39, 'add': 'Lalitpur'},\n",
       " 4: {'name': 'Gopi', 'age': 36, 'add': 'kathmandu'}}"
      ]
     },
     "execution_count": 31,
     "metadata": {},
     "output_type": "execute_result"
    }
   ],
   "source": [
    "del info[1]['name']\n",
    "info"
   ]
  },
  {
   "cell_type": "code",
   "execution_count": 32,
   "id": "3686147d",
   "metadata": {},
   "outputs": [
    {
     "name": "stdout",
     "output_type": "stream",
     "text": [
      "Enter value =2\n",
      "enter name = su\n",
      "enter age =98\n",
      "enter addkath\n",
      "{0: {'name': 'su', 'age': '98', 'add': 'kath'}}\n",
      "enter name = suni\n",
      "enter age =66\n",
      "enter addlali\n",
      "{0: {'name': 'su', 'age': '98', 'add': 'kath'}, 1: {'name': 'suni', 'age': '66', 'add': 'lali'}}\n"
     ]
    }
   ],
   "source": [
    "info = {}\n",
    "n = int(input(\"Enter value =\"))\n",
    "for i in range(n):\n",
    "    name = input(\"enter name = \")\n",
    "    age = input('enter age =')\n",
    "    add = input('enter add')\n",
    "    d = {'name':name,'age':age,'add':add}\n",
    "    info[i] = d\n",
    "    print(info)\n",
    "    \n"
   ]
  },
  {
   "cell_type": "code",
   "execution_count": 33,
   "id": "8469f010",
   "metadata": {},
   "outputs": [
    {
     "name": "stdout",
     "output_type": "stream",
     "text": [
      "Enter value =2\n",
      "enter name = su\n",
      "enter age =98\n",
      "enter add97\n",
      "{1: {'name': 'su', 'age': '98', 'add': '97'}}\n",
      "enter name = di\n",
      "enter age =55\n",
      "enter addboudha\n",
      "{1: {'name': 'su', 'age': '98', 'add': '97'}, 2: {'name': 'di', 'age': '55', 'add': 'boudha'}}\n"
     ]
    }
   ],
   "source": [
    "info = {}\n",
    "n = int(input(\"Enter value =\"))\n",
    "for i in range(1,n+1):\n",
    "    name = input(\"enter name = \")\n",
    "    age = input('enter age =')\n",
    "    add = input('enter add')\n",
    "    d = {'name':name,'age':age,'add':add}\n",
    "    info[i] = d\n",
    "    print(info)"
   ]
  },
  {
   "cell_type": "code",
   "execution_count": 34,
   "id": "31b3bca2",
   "metadata": {},
   "outputs": [
    {
     "data": {
      "text/plain": [
       "{1: {'name': 'su', 'age': '98', 'add': '97'},\n",
       " 2: {'name': 'di', 'age': '55', 'add': 'boudha'},\n",
       " 3: {'name': 'Shyam', 'age': 66, 'add': 'bhaktapur'}}"
      ]
     },
     "execution_count": 34,
     "metadata": {},
     "output_type": "execute_result"
    }
   ],
   "source": [
    "info[3] = {'name': 'Shyam', 'age': 66, 'add': 'bhaktapur'}\n",
    "info"
   ]
  },
  {
   "cell_type": "code",
   "execution_count": 40,
   "id": "9b14fab1",
   "metadata": {},
   "outputs": [
    {
     "data": {
      "text/plain": [
       "{1: {'name': 'su', 'age': '98', 'add': '97'},\n",
       " 2: {'name': 'di', 'age': '55', 'add': 'boudha'},\n",
       " 3: {'name': 'Shyam',\n",
       "  'age': 66,\n",
       "  'add': {'per': 'boudha', 'temp': 'kapan'},\n",
       "  ('add', 'age'): ({'per': 'boudha', 'temp': 'kapan'}, {65})}}"
      ]
     },
     "execution_count": 40,
     "metadata": {},
     "output_type": "execute_result"
    }
   ],
   "source": [
    "info[3]['add'] = {'per': 'boudha','temp':'kapan'}\n",
    "info"
   ]
  },
  {
   "cell_type": "code",
   "execution_count": 41,
   "id": "89445df3",
   "metadata": {},
   "outputs": [
    {
     "data": {
      "text/plain": [
       "{1: {'name': 'su', 'age': '98', 'add': '97'},\n",
       " 2: {'name': 'di', 'age': '55', 'add': 'boudha'},\n",
       " 3: {'name': 'Shyam',\n",
       "  'age': 66,\n",
       "  'add': {'per': 'boudha', 'temp': 'kapan'},\n",
       "  ('add', 'age'): ({'per': 'boudha', 'temp': 'kapan'}, {65})}}"
      ]
     },
     "execution_count": 41,
     "metadata": {},
     "output_type": "execute_result"
    }
   ],
   "source": [
    "info[3]['add'] = {'per': 'boudha','temp':'kapan'}\n",
    "info"
   ]
  },
  {
   "cell_type": "code",
   "execution_count": 42,
   "id": "78d64901",
   "metadata": {},
   "outputs": [
    {
     "data": {
      "text/plain": [
       "{1: {'name': 'su', 'age': '98', 'add': '97'},\n",
       " 2: {'name': 'di', 'age': '55', 'add': 'boudha'},\n",
       " 3: {'name': 'Shyam', 'age': 66, 'add': 'bhaktapur'}}"
      ]
     },
     "execution_count": 42,
     "metadata": {},
     "output_type": "execute_result"
    }
   ],
   "source": [
    "info[3] = {'name': 'Shyam', 'age': 66, 'add': 'bhaktapur'}\n",
    "info"
   ]
  },
  {
   "cell_type": "code",
   "execution_count": null,
   "id": "02ed5ae4",
   "metadata": {},
   "outputs": [],
   "source": [
    "info[3]['age']['add'] = {'per': 'boudha','temp':'kapan'}{'age':35,}"
   ]
  },
  {
   "cell_type": "code",
   "execution_count": 46,
   "id": "dc3882bc",
   "metadata": {},
   "outputs": [
    {
     "data": {
      "text/plain": [
       "{1: {'name': 'su', 'age': 55, 'add': '97'},\n",
       " 2: {'name': 'di', 'age': '55', 'add': 'boudha'},\n",
       " 3: {'name': 'Shyam', 'age': 66, 'add': 'bhaktapur'}}"
      ]
     },
     "execution_count": 46,
     "metadata": {},
     "output_type": "execute_result"
    }
   ],
   "source": [
    "info[1]['age'] = 55\n",
    "info"
   ]
  },
  {
   "cell_type": "code",
   "execution_count": 3,
   "id": "eeddcec8",
   "metadata": {},
   "outputs": [
    {
     "data": {
      "text/plain": [
       "{'name': 'Shyam', 'age': 66, 'add': 'bhaktapur', 'phone': 9843269777}"
      ]
     },
     "execution_count": 3,
     "metadata": {},
     "output_type": "execute_result"
    }
   ],
   "source": [
    "info = {'name': 'Shyam', 'age': 66, 'add': 'bhaktapur'}\n",
    "info['phone'] = 9843269777\n",
    "info"
   ]
  },
  {
   "cell_type": "code",
   "execution_count": 4,
   "id": "cba97cc7",
   "metadata": {},
   "outputs": [
    {
     "data": {
      "text/plain": [
       "{'name': 'Hari', 'age': 58, 'add': 'bhaktapur', 'phone': 9843269777}"
      ]
     },
     "execution_count": 4,
     "metadata": {},
     "output_type": "execute_result"
    }
   ],
   "source": [
    "info = {'name': 'Shyam', 'age': 66, 'add': 'bhaktapur'}\n",
    "info.update({'name': \"Hari\",\"age\": 58,\"phone\":9843269777})\n",
    "info"
   ]
  },
  {
   "cell_type": "code",
   "execution_count": 8,
   "id": "66b3dfda",
   "metadata": {},
   "outputs": [
    {
     "data": {
      "text/plain": [
       "{'name': 'Shyam', 'add': 'bhaktapur'}"
      ]
     },
     "execution_count": 8,
     "metadata": {},
     "output_type": "execute_result"
    }
   ],
   "source": [
    "info = {'name': 'Shyam', 'age': 66, 'add': 'bhaktapur'}\n",
    "del info['age']\n",
    "info"
   ]
  },
  {
   "cell_type": "code",
   "execution_count": 10,
   "id": "6c739830",
   "metadata": {},
   "outputs": [
    {
     "data": {
      "text/plain": [
       "{'name': 'Shyam', 'add': 'bhaktapur'}"
      ]
     },
     "execution_count": 10,
     "metadata": {},
     "output_type": "execute_result"
    }
   ],
   "source": [
    "info = {'name': 'Shyam', 'age': 66, 'add': 'bhaktapur'}\n",
    "age = info.pop('age')\n",
    "info"
   ]
  },
  {
   "cell_type": "code",
   "execution_count": 11,
   "id": "1ead7e55",
   "metadata": {},
   "outputs": [
    {
     "name": "stdout",
     "output_type": "stream",
     "text": [
      "3\n"
     ]
    }
   ],
   "source": [
    "info = {'name': 'Shyam', 'age': 66, 'add': 'bhaktapur'}\n",
    "print(len(info))"
   ]
  },
  {
   "cell_type": "code",
   "execution_count": 20,
   "id": "c6708cae",
   "metadata": {},
   "outputs": [
    {
     "name": "stdout",
     "output_type": "stream",
     "text": [
      "dict_values(['Shyam', 66, 'bhaktapur'])\n"
     ]
    }
   ],
   "source": [
    "info = {'name': 'Shyam', 'age': 66, 'add': 'bhaktapur'}\n",
    "print(info.values())"
   ]
  },
  {
   "cell_type": "code",
   "execution_count": null,
   "id": "c59bac71",
   "metadata": {},
   "outputs": [],
   "source": []
  }
 ],
 "metadata": {
  "kernelspec": {
   "display_name": "Python 3 (ipykernel)",
   "language": "python",
   "name": "python3"
  },
  "language_info": {
   "codemirror_mode": {
    "name": "ipython",
    "version": 3
   },
   "file_extension": ".py",
   "mimetype": "text/x-python",
   "name": "python",
   "nbconvert_exporter": "python",
   "pygments_lexer": "ipython3",
   "version": "3.11.5"
  }
 },
 "nbformat": 4,
 "nbformat_minor": 5
}
