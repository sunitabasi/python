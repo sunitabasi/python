{
 "cells": [
  {
   "cell_type": "code",
   "execution_count": 4,
   "id": "7d46998c",
   "metadata": {},
   "outputs": [
    {
     "name": "stdout",
     "output_type": "stream",
     "text": [
      "Hello world\n"
     ]
    }
   ],
   "source": [
    "print(\"Hello world\")"
   ]
  },
  {
   "cell_type": "code",
   "execution_count": 6,
   "id": "7da22374",
   "metadata": {},
   "outputs": [
    {
     "name": "stdout",
     "output_type": "stream",
     "text": [
      "hello World\n",
      "\n"
     ]
    }
   ],
   "source": [
    "a = \"hello World\\n\"\n",
    "print(a)"
   ]
  },
  {
   "cell_type": "code",
   "execution_count": 20,
   "id": "42f1aeab",
   "metadata": {},
   "outputs": [
    {
     "name": "stdout",
     "output_type": "stream",
     "text": [
      "my name is : Sunita\n",
      "I am : 30\n",
      "My name is  Sunita . I am  30\n"
     ]
    }
   ],
   "source": [
    "# assigning variables\n",
    "name = \"Sunita\"\n",
    "age = 30\n",
    "address = \"Kathmandu\"\n",
    "print(\"my name is :\", name)\n",
    "print(\"I am :\", age)\n",
    "print(\"My name is \",name, \".\",\"I am \", age)"
   ]
  },
  {
   "cell_type": "code",
   "execution_count": 15,
   "id": "24691cdf",
   "metadata": {},
   "outputs": [
    {
     "name": "stdout",
     "output_type": "stream",
     "text": [
      "<class 'str'>\n",
      "<class 'int'>\n",
      "<class 'float'>\n",
      "<class 'bool'>\n"
     ]
    }
   ],
   "source": [
    "# data types\n",
    "name = \"sunita\"\n",
    "age = 30\n",
    "price = 20.30\n",
    "a = True\n",
    "\n",
    "print(type(name))\n",
    "print(type(age))\n",
    "print(type(price))\n",
    "print(type(a))"
   ]
  },
  {
   "cell_type": "code",
   "execution_count": 17,
   "id": "f7a9cd0a",
   "metadata": {},
   "outputs": [
    {
     "data": {
      "text/plain": [
       "True"
      ]
     },
     "execution_count": 17,
     "metadata": {},
     "output_type": "execute_result"
    }
   ],
   "source": [
    "a = 10\n",
    "a = bool(a)\n",
    "a"
   ]
  },
  {
   "cell_type": "code",
   "execution_count": null,
   "id": "65b4b0e0",
   "metadata": {},
   "outputs": [],
   "source": []
  }
 ],
 "metadata": {
  "kernelspec": {
   "display_name": "Python 3 (ipykernel)",
   "language": "python",
   "name": "python3"
  },
  "language_info": {
   "codemirror_mode": {
    "name": "ipython",
    "version": 3
   },
   "file_extension": ".py",
   "mimetype": "text/x-python",
   "name": "python",
   "nbconvert_exporter": "python",
   "pygments_lexer": "ipython3",
   "version": "3.11.5"
  }
 },
 "nbformat": 4,
 "nbformat_minor": 5
}
