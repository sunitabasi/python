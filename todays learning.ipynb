{
 "cells": [
  {
   "cell_type": "code",
   "execution_count": 1,
   "id": "14050716",
   "metadata": {},
   "outputs": [
    {
     "name": "stdout",
     "output_type": "stream",
     "text": [
      "Hello World\n"
     ]
    }
   ],
   "source": [
    "print(\"Hello World\")"
   ]
  },
  {
   "cell_type": "code",
   "execution_count": 2,
   "id": "0b80f064",
   "metadata": {},
   "outputs": [
    {
     "name": "stdout",
     "output_type": "stream",
     "text": [
      "Hello I am python\n",
      "I am easy to learn\n"
     ]
    }
   ],
   "source": [
    "print(\"Hello I am python\")\n",
    "print(\"I am easy to learn\")"
   ]
  },
  {
   "cell_type": "code",
   "execution_count": 5,
   "id": "55608ef0",
   "metadata": {},
   "outputs": [
    {
     "name": "stdout",
     "output_type": "stream",
     "text": [
      "My name is : python\n",
      "I am : 22\n",
      "it costs me Rs.: 40000.0\n",
      "<class 'str'>\n",
      "<class 'int'>\n",
      "<class 'float'>\n",
      "<class 'bool'>\n"
     ]
    }
   ],
   "source": [
    "# assigning values to variables\n",
    "name = \"python\"\n",
    "age = 22\n",
    "price = 40000.00\n",
    "oldprice = True\n",
    "\n",
    "print(\"My name is :\", name)\n",
    "print(\"I am :\", age)\n",
    "print(\"it costs me Rs.:\", price)\n",
    "\n",
    "print(type(name))\n",
    "print(type(age))\n",
    "print(type(price))\n",
    "print(type(oldprice))"
   ]
  },
  {
   "cell_type": "code",
   "execution_count": null,
   "id": "cab7a6cd",
   "metadata": {},
   "outputs": [],
   "source": []
  }
 ],
 "metadata": {
  "kernelspec": {
   "display_name": "Python 3 (ipykernel)",
   "language": "python",
   "name": "python3"
  },
  "language_info": {
   "codemirror_mode": {
    "name": "ipython",
    "version": 3
   },
   "file_extension": ".py",
   "mimetype": "text/x-python",
   "name": "python",
   "nbconvert_exporter": "python",
   "pygments_lexer": "ipython3",
   "version": "3.11.5"
  }
 },
 "nbformat": 4,
 "nbformat_minor": 5
}
