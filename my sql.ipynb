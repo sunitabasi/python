{
 "cells": [
  {
   "cell_type": "code",
   "execution_count": 1,
   "id": "411fa55a",
   "metadata": {},
   "outputs": [
    {
     "name": "stdout",
     "output_type": "stream",
     "text": [
      "Requirement already satisfied: mysql-connector-python in c:\\users\\lamad\\anaconda3\\lib\\site-packages (8.3.0)\n"
     ]
    }
   ],
   "source": [
    "!pip install mysql-connector-python"
   ]
  },
  {
   "cell_type": "code",
   "execution_count": 2,
   "id": "9f24eb52",
   "metadata": {},
   "outputs": [],
   "source": [
    "import mysql.connector\n",
    "#importing database\n",
    "database = mysql.connector.connect(\n",
    "    host= \"localhost\",\n",
    "    user= \"root\",\n",
    "    password= \"\",\n",
    "    database = \"python3pm\"\n",
    ")\n",
    "db = database.cursor()"
   ]
  },
  {
   "cell_type": "code",
   "execution_count": 10,
   "id": "0a980fb4",
   "metadata": {},
   "outputs": [
    {
     "name": "stdout",
     "output_type": "stream",
     "text": [
      "(1, 'Rama', 89, 98, 85, 67, 89, 420, 82.5, 'A')\n",
      "(3, 'Nabin', 82, 84, 85, 98, 89, 430, 88.5, 'A')\n",
      "(4, 'Shiva', 49, 57, 25, 98, 89, 400, 70.0, 'A')\n",
      "(8, 'Ram', 78, 79, 93, 67, 78, 415, 83.5, 'A')\n",
      "(10, 'Sameer', 89, 67, 80, 98, 89, 412, 82.5, 'A')\n",
      "(11, 'Rama', 89, 45, 65, 87, 78, 364, 72.8, 'B')\n",
      "(12, 'Ram', 87, 90, 65, 78, 87, 407, 81.4, 'A')\n",
      "(13, 'Gauri', 98, 78, 90, 87, 78, 431, 86.2, 'A')\n",
      "(15, 'bina', 55, 66, 22, 90, 44, 656, 66.25, 'B')\n",
      "(16, 'binita', 95, 56, 92, 90, 99, 856, 88.25, 'A')\n",
      "(20, 'binita', 95, 56, 92, 90, 99, 856, 88.25, 'A')\n",
      "(40, 'Hari', 89, 89, 89, 78, 87, 412, 83.0, 'A')\n"
     ]
    }
   ],
   "source": [
    "db.execute(\"SELECT * FROM student\")\n",
    "result = db.fetchall()\n",
    "for x in result:\n",
    "    print(x)"
   ]
  },
  {
   "cell_type": "code",
   "execution_count": 11,
   "id": "8c6601f7",
   "metadata": {},
   "outputs": [
    {
     "name": "stdout",
     "output_type": "stream",
     "text": [
      "(1, 'Rama', 420, 'A')\n",
      "(3, 'Nabin', 430, 'A')\n",
      "(4, 'Shiva', 400, 'A')\n",
      "(8, 'Ram', 415, 'A')\n",
      "(10, 'Sameer', 412, 'A')\n",
      "(11, 'Rama', 364, 'B')\n",
      "(12, 'Ram', 407, 'A')\n",
      "(13, 'Gauri', 431, 'A')\n",
      "(15, 'bina', 656, 'B')\n",
      "(16, 'binita', 856, 'A')\n",
      "(20, 'binita', 856, 'A')\n",
      "(40, 'Hari', 412, 'A')\n"
     ]
    }
   ],
   "source": [
    "db.execute(\"SELECT sn,name,total,grade FROM student\")\n",
    "result = db.fetchall()\n",
    "for x in result:\n",
    "    print(x)"
   ]
  },
  {
   "cell_type": "code",
   "execution_count": 12,
   "id": "b60d4de4",
   "metadata": {},
   "outputs": [
    {
     "name": "stdout",
     "output_type": "stream",
     "text": [
      "(1, 'Rama', 89, 98, 85, 67, 89, 420, 82.5, 'A')\n",
      "(3, 'Nabin', 82, 84, 85, 98, 89, 430, 88.5, 'A')\n",
      "(4, 'Shiva', 49, 57, 25, 98, 89, 400, 70.0, 'A')\n",
      "(8, 'Ram', 78, 79, 93, 67, 78, 415, 83.5, 'A')\n",
      "(10, 'Sameer', 89, 67, 80, 98, 89, 412, 82.5, 'A')\n",
      "(12, 'Ram', 87, 90, 65, 78, 87, 407, 81.4, 'A')\n",
      "(13, 'Gauri', 98, 78, 90, 87, 78, 431, 86.2, 'A')\n",
      "(16, 'binita', 95, 56, 92, 90, 99, 856, 88.25, 'A')\n",
      "(20, 'binita', 95, 56, 92, 90, 99, 856, 88.25, 'A')\n",
      "(40, 'Hari', 89, 89, 89, 78, 87, 412, 83.0, 'A')\n"
     ]
    }
   ],
   "source": [
    "db.execute(\"SELECT * FROM student WHERE grade = 'A'\")\n",
    "result = db.fetchall()\n",
    "for x in result:\n",
    "    print(x)"
   ]
  },
  {
   "cell_type": "code",
   "execution_count": 16,
   "id": "05fa703e",
   "metadata": {},
   "outputs": [],
   "source": [
    "# insert\n",
    "sql = \"\"\"INSERT INTO `student` (`sn`, `name`, `physics`, `chemistry`, `math`, `english`, `nepali`, `total`, `per`, `grade`) VALUES ('50', 'binita', '95', '56', '92', '90', '99', '856', '88.25', 'A');\"\"\"\n",
    "db.execute(sql)\n",
    "database.commit()    "
   ]
  },
  {
   "cell_type": "code",
   "execution_count": 3,
   "id": "c104d417",
   "metadata": {},
   "outputs": [
    {
     "name": "stdout",
     "output_type": "stream",
     "text": [
      "Enter sn =90\n",
      "Enter name =bioo\n",
      "Enter marks =50\n",
      "Enter marks =70\n",
      "Enter marks =90\n",
      "ENter marks =60\n",
      "ENter marks =70\n"
     ]
    }
   ],
   "source": [
    "sn = int(input(\"Enter sn =\"))\n",
    "name = input(\"Enter name =\")\n",
    "physics = int(input(\"Enter marks =\"))\n",
    "chemistry = int(input(\"Enter marks =\"))\n",
    "math = int(input(\"Enter marks =\"))\n",
    "english = int(input(\"ENter marks =\"))\n",
    "nepali = int(input(\"ENter marks =\"))\n",
    "total = physics + chemistry + math + english + nepali\n",
    "per = total/5\n",
    "\n",
    "if per >=80:\n",
    "    grade = \"A\"\n",
    "elif per >=60:\n",
    "    grade = \"B\"\n",
    "elif per >=50:\n",
    "    grade = \"C\"\n",
    "else:\n",
    "    grade = \"F\"\n",
    "    \n",
    "sql = f'''INSERT INTO student(sn,name,physics,chemistry,math,english,nepali,total,per,grade)\n",
    "VALUES ({sn},'{name}',{physics},{chemistry},{math},{english},{nepali},{total},{per},'{grade}')'''\n",
    "db.execute(sql)\n",
    "database.commit()"
   ]
  },
  {
   "cell_type": "code",
   "execution_count": 4,
   "id": "51fb19a8",
   "metadata": {},
   "outputs": [],
   "source": [
    "#UPDATE\n",
    "sql = \"UPDATE student SET physics = 90 WHERE sn = 3\"\n",
    "db.execute(sql)\n",
    "database.commit()\n"
   ]
  },
  {
   "cell_type": "code",
   "execution_count": 9,
   "id": "254824ed",
   "metadata": {},
   "outputs": [
    {
     "name": "stdout",
     "output_type": "stream",
     "text": [
      "Enter subject = math\n",
      "Enter marks =80\n",
      "ENter sn = 1\n"
     ]
    }
   ],
   "source": [
    "subject = input(\"Enter subject = \")\n",
    "marks = int(input(\"Enter marks =\"))\n",
    "sn = int(input(\"ENter sn = \"))\n",
    "\n",
    "sql = f\"UPDATE student SET {subject} = {marks} WHERE sn = {sn}\"\n",
    "db.execute(sql)\n",
    "database.commit()"
   ]
  },
  {
   "cell_type": "code",
   "execution_count": 10,
   "id": "d4a2fb08",
   "metadata": {},
   "outputs": [
    {
     "name": "stdout",
     "output_type": "stream",
     "text": [
      "UPDATE student SET math = 80 WHERE sn = 1\n"
     ]
    }
   ],
   "source": [
    "print(sql) # to check mistake in the data, paste the below data in sql local host"
   ]
  },
  {
   "cell_type": "code",
   "execution_count": 6,
   "id": "6694b8b6",
   "metadata": {},
   "outputs": [],
   "source": [
    "#delete\n",
    "sql = \"DELETE from student WHERE sn = 50\"\n",
    "db.execute(sql)\n",
    "database.commit()"
   ]
  },
  {
   "cell_type": "code",
   "execution_count": 7,
   "id": "19ba8fe9",
   "metadata": {},
   "outputs": [
    {
     "name": "stdout",
     "output_type": "stream",
     "text": [
      "Enter sn = 16\n"
     ]
    }
   ],
   "source": [
    "#delete\n",
    "sn = int(input(\"Enter sn = \"))\n",
    "sql = f\"DELETE from student WHERE sn = {sn}\"\n",
    "db.execute(sql)\n",
    "database.commit()"
   ]
  },
  {
   "cell_type": "code",
   "execution_count": null,
   "id": "a01cca0c",
   "metadata": {},
   "outputs": [],
   "source": [
    "# create read operate delete "
   ]
  }
 ],
 "metadata": {
  "kernelspec": {
   "display_name": "Python 3 (ipykernel)",
   "language": "python",
   "name": "python3"
  },
  "language_info": {
   "codemirror_mode": {
    "name": "ipython",
    "version": 3
   },
   "file_extension": ".py",
   "mimetype": "text/x-python",
   "name": "python",
   "nbconvert_exporter": "python",
   "pygments_lexer": "ipython3",
   "version": "3.11.5"
  }
 },
 "nbformat": 4,
 "nbformat_minor": 5
}
