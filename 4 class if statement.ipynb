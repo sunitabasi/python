{
 "cells": [
  {
   "cell_type": "code",
   "execution_count": 2,
   "id": "f20617f2",
   "metadata": {},
   "outputs": [
    {
     "name": "stdout",
     "output_type": "stream",
     "text": [
      "True\n"
     ]
    }
   ],
   "source": [
    "# <> <= >= == != comparision operators\n",
    "a = 10\n",
    "print(a >= 5)"
   ]
  },
  {
   "cell_type": "code",
   "execution_count": 3,
   "id": "bfac987f",
   "metadata": {},
   "outputs": [
    {
     "name": "stdout",
     "output_type": "stream",
     "text": [
      "False\n"
     ]
    }
   ],
   "source": [
    "a  = 10\n",
    "print(a ==5)"
   ]
  },
  {
   "cell_type": "code",
   "execution_count": 5,
   "id": "c9bf05e8",
   "metadata": {},
   "outputs": [
    {
     "name": "stdout",
     "output_type": "stream",
     "text": [
      "True\n"
     ]
    }
   ],
   "source": [
    " a = 10 \n",
    "print(a !=5)"
   ]
  },
  {
   "cell_type": "code",
   "execution_count": null,
   "id": "30da23b9",
   "metadata": {},
   "outputs": [],
   "source": [
    "indentension operator \n",
    "if <condition>:\n",
    "    <operations>\n",
    "elif <condition>:\n",
    "    <operatios>\n",
    "else:\n",
    "    <operations>\n",
    "    \n",
    "    \n",
    "    \n"
   ]
  },
  {
   "cell_type": "code",
   "execution_count": 10,
   "id": "14f05062",
   "metadata": {},
   "outputs": [
    {
     "name": "stdout",
     "output_type": "stream",
     "text": [
      "Enter x = 5\n",
      "The no is +ve \n"
     ]
    }
   ],
   "source": [
    "x = int(input(\"Enter x = \"))\n",
    "if x > 0:\n",
    "    print(\"The no is +ve \")\n",
    "else:\n",
    "    print(\"The no is -ve\")\n",
    "    "
   ]
  },
  {
   "cell_type": "code",
   "execution_count": 11,
   "id": "4667f39c",
   "metadata": {},
   "outputs": [
    {
     "data": {
      "text/plain": [
       "True"
      ]
     },
     "execution_count": 11,
     "metadata": {},
     "output_type": "execute_result"
    }
   ],
   "source": [
    "10%2==0\n"
   ]
  },
  {
   "cell_type": "code",
   "execution_count": 15,
   "id": "ea8ce715",
   "metadata": {},
   "outputs": [
    {
     "name": "stdout",
     "output_type": "stream",
     "text": [
      "Enter  a =20\n",
      "The number is even\n"
     ]
    }
   ],
   "source": [
    "a = int(input(\"Enter  a =\"))\n",
    "if a%2==0:\n",
    "    print(\"The number is even\")\n",
    "else:\n",
    "    print(\"The number is odd\")"
   ]
  },
  {
   "cell_type": "code",
   "execution_count": null,
   "id": "0975672f",
   "metadata": {},
   "outputs": [],
   "source": [
    "a = input(\"What is the value of a =\")\n",
    "if "
   ]
  },
  {
   "cell_type": "code",
   "execution_count": 4,
   "id": "403d4b5a",
   "metadata": {},
   "outputs": [
    {
     "name": "stdout",
     "output_type": "stream",
     "text": [
      "Enter the value of a =1\n",
      "Enter the value of b =1\n",
      "a and b are equal!\n"
     ]
    }
   ],
   "source": [
    "a = int(input(\"Enter the value of a =\"))\n",
    "b = int(input(\"Enter the value of b =\"))\n",
    "if a>b:\n",
    "    print(\"a is greater than b \")\n",
    "elif b>a:\n",
    "    print(\"b is greater than a\")\n",
    "else:\n",
    "    print(\"a and b are equal!\")"
   ]
  },
  {
   "cell_type": "code",
   "execution_count": 3,
   "id": "25cf7b47",
   "metadata": {},
   "outputs": [
    {
     "name": "stdout",
     "output_type": "stream",
     "text": [
      "Enter a =10\n",
      "Enter b =20\n",
      "Enter + or - or * or / *\n",
      "200\n"
     ]
    }
   ],
   "source": [
    "a = int(input(\"Enter a =\"))\n",
    "b = int(input(\"Enter b =\"))\n",
    "o = input(\"Enter + or - or * or / \")\n",
    "if o == \"+\":\n",
    "    print(a+b)\n",
    "elif o == \"-\":\n",
    "    print(a-b)\n",
    "elif o ==\"/\":\n",
    "    print(a/b)\n",
    "elif o ==\"*\":\n",
    "    print(a*b)\n",
    "else:\n",
    "    print(\"Enter valid operators\")"
   ]
  },
  {
   "cell_type": "code",
   "execution_count": null,
   "id": "9c25a119",
   "metadata": {},
   "outputs": [],
   "source": [
    "physics = int(input(\"Enter marks =\"))\n",
    "math = int(input(\"Enter marks =\"))\n",
    "english = int(input(\"Enter marks =\"))\n",
    "chemistry = int(input(\"Enter marks =\"))\n",
    "\n",
    "total = physics + math + english + chemistry\n",
    "per = total/4\n",
    "    \n",
    "if per >= 80:\n",
    "    grade = \"A\"\n",
    "elif per >=60:\n",
    "    grade = \"B\"\n",
    "elif per >= 45:\n",
    "    grade = \"C\"\n",
    "else:\n",
    "    grade =\"F\"\n",
    "print(\"total=\", total)\n",
    "print(\"per=\", per)\n",
    "print(\"grade=\", grade)"
   ]
  },
  {
   "cell_type": "code",
   "execution_count": 5,
   "id": "a26ba1fe",
   "metadata": {},
   "outputs": [
    {
     "name": "stdout",
     "output_type": "stream",
     "text": [
      "enter speaking marks =5\n",
      "enter reading marks =6.5\n",
      "enter writing marks=8\n",
      "enter listening marks =9\n",
      "total = 28.5\n",
      "percentage = 7.125\n",
      "grade = Excellent\n"
     ]
    }
   ],
   "source": [
    "speaking = int(input(\"enter speaking marks =\"))\n",
    "reading = float(input(\"enter reading marks =\"))\n",
    "writing = int(input(\"enter writing marks=\"))\n",
    "listening = int(input(\"enter listening marks =\"))\n",
    "\n",
    "total = speaking + reading + writing + listening\n",
    "percentage = total/4\n",
    "\n",
    "if per >=9:\n",
    "    grade = \"Excellent\"\n",
    "elif per >=8:\n",
    "    grade = \"Good\"\n",
    "elif per >= 7:\n",
    "    grade = \"Satisfactory\"\n",
    "elif per >= 6:\n",
    "    grade = \"Below satisfactory\"\n",
    "else:\n",
    "    grade = \"Disqualified\"\n",
    "    \n",
    "print(\"total =\", total)\n",
    "print(\"percentage =\", percentage)\n",
    "print(\"grade =\", grade)"
   ]
  },
  {
   "cell_type": "code",
   "execution_count": 8,
   "id": "0b93e365",
   "metadata": {},
   "outputs": [
    {
     "name": "stdout",
     "output_type": "stream",
     "text": [
      "Enter a =50\n",
      "Enter b =20\n",
      "The statement is correct\n"
     ]
    }
   ],
   "source": [
    "a = int(input(\"Enter a =\"))\n",
    "b = int(input(\"Enter b =\"))\n",
    "\n",
    "if a>b:\n",
    "    print(\"The statement is correct\")\n",
    "elif a<b:\n",
    "    print(\"The statament is wrong\")\n",
    "else:\n",
    "    print(\"The statement is equal\")\n",
    "\n"
   ]
  },
  {
   "cell_type": "code",
   "execution_count": 12,
   "id": "8ab337e9",
   "metadata": {},
   "outputs": [
    {
     "name": "stdout",
     "output_type": "stream",
     "text": [
      "Enter the age =61\n",
      "You are senior citizen\n"
     ]
    }
   ],
   "source": [
    "age = int(input(\"Enter the age =\"))\n",
    "if age<18:\n",
    "    print(\"Your are a minor\")\n",
    "elif age >= 18 and age < 60:\n",
    "    print(\"you are audlt\")\n",
    "else:\n",
    "    print(\"You are senior citizen\")\n",
    "    "
   ]
  },
  {
   "cell_type": "code",
   "execution_count": 1,
   "id": "404e9745",
   "metadata": {},
   "outputs": [
    {
     "name": "stdout",
     "output_type": "stream",
     "text": [
      "enter value =20\n",
      "20 even number\n"
     ]
    }
   ],
   "source": [
    "n = int(input(\"enter value =\"))\n",
    "if n%2==0:\n",
    "    print(n, \"even number\")"
   ]
  },
  {
   "cell_type": "code",
   "execution_count": 5,
   "id": "f018cbd2",
   "metadata": {},
   "outputs": [
    {
     "name": "stdout",
     "output_type": "stream",
     "text": [
      "enter number2\n"
     ]
    },
    {
     "ename": "NameError",
     "evalue": "name 'num' is not defined",
     "output_type": "error",
     "traceback": [
      "\u001b[1;31m---------------------------------------------------------------------------\u001b[0m",
      "\u001b[1;31mNameError\u001b[0m                                 Traceback (most recent call last)",
      "Cell \u001b[1;32mIn[5], line 2\u001b[0m\n\u001b[0;32m      1\u001b[0m n \u001b[38;5;241m=\u001b[39m \u001b[38;5;28mint\u001b[39m(\u001b[38;5;28minput\u001b[39m(\u001b[38;5;124m\"\u001b[39m\u001b[38;5;124menter number\u001b[39m\u001b[38;5;124m\"\u001b[39m))\n\u001b[1;32m----> 2\u001b[0m \u001b[38;5;28;01mfor\u001b[39;00m i \u001b[38;5;129;01min\u001b[39;00m \u001b[38;5;28mrange\u001b[39m(\u001b[38;5;241m2\u001b[39m,num):\n\u001b[0;32m      3\u001b[0m     \u001b[38;5;28;01mif\u001b[39;00m n\u001b[38;5;241m==\u001b[39m\u001b[38;5;241m1\u001b[39m:\n\u001b[0;32m      4\u001b[0m         \u001b[38;5;28mprint\u001b[39m(n, \u001b[38;5;124m\"\u001b[39m\u001b[38;5;124mprime number\u001b[39m\u001b[38;5;124m\"\u001b[39m)\n",
      "\u001b[1;31mNameError\u001b[0m: name 'num' is not defined"
     ]
    }
   ],
   "source": [
    "n = int(input(\"enter number\"))\n",
    "for i in range(2,num):\n",
    "    if n==1:\n",
    "        print(n, \"prime number\")\n",
    "    elif n%i!=0:\n",
    "        print(n, \"prime munber\")\n",
    "    else:\n",
    "        print(n, \"composite number\")\n",
    "        \n",
    "        \n",
    "\n",
    "\n",
    "    "
   ]
  },
  {
   "cell_type": "code",
   "execution_count": 1,
   "id": "b2463b19",
   "metadata": {},
   "outputs": [
    {
     "name": "stdout",
     "output_type": "stream",
     "text": [
      "Enter the valur:- 2\n"
     ]
    },
    {
     "ename": "TypeError",
     "evalue": "'int' object is not iterable",
     "output_type": "error",
     "traceback": [
      "\u001b[1;31m---------------------------------------------------------------------------\u001b[0m",
      "\u001b[1;31mTypeError\u001b[0m                                 Traceback (most recent call last)",
      "Cell \u001b[1;32mIn[1], line 2\u001b[0m\n\u001b[0;32m      1\u001b[0m n \u001b[38;5;241m=\u001b[39m \u001b[38;5;28mint\u001b[39m(\u001b[38;5;28minput\u001b[39m(\u001b[38;5;124m\"\u001b[39m\u001b[38;5;124mEnter the valur:- \u001b[39m\u001b[38;5;124m\"\u001b[39m))\n\u001b[1;32m----> 2\u001b[0m \u001b[38;5;28;01mfor\u001b[39;00m i \u001b[38;5;129;01min\u001b[39;00m n:\n\u001b[0;32m      3\u001b[0m     \u001b[38;5;28;01mif\u001b[39;00m n\u001b[38;5;241m%\u001b[39m\u001b[38;5;241m2\u001b[39m\u001b[38;5;241m==\u001b[39m\u001b[38;5;241m0\u001b[39m:\n\u001b[0;32m      4\u001b[0m         \u001b[38;5;28mprint\u001b[39m(\u001b[38;5;124m\"\u001b[39m\u001b[38;5;124mprime number\u001b[39m\u001b[38;5;124m\"\u001b[39m)\n",
      "\u001b[1;31mTypeError\u001b[0m: 'int' object is not iterable"
     ]
    }
   ],
   "source": [
    "n = int(input(\"Enter the valur:- \"))\n",
    "for i in n:\n",
    "    if n%2==0:\n",
    "        print(\"prime number\")\n",
    "    else:\n",
    "        print(\"composite number\")"
   ]
  },
  {
   "cell_type": "code",
   "execution_count": 16,
   "id": "a57f3c3b",
   "metadata": {},
   "outputs": [
    {
     "name": "stdout",
     "output_type": "stream",
     "text": [
      "Enter the value =2\n",
      "prime number\n"
     ]
    }
   ],
   "source": [
    "n = int(input(\"Enter the value =\"))\n",
    "if (n%n==0 and n%2!=0) or n:  print(\"prime number\")\n",
    "else:\n",
    "    print(\"composit\")\n",
    "    "
   ]
  },
  {
   "cell_type": "code",
   "execution_count": 19,
   "id": "42cd0750",
   "metadata": {},
   "outputs": [
    {
     "name": "stdout",
     "output_type": "stream",
     "text": [
      "enter number= 2\n",
      "prime number\n"
     ]
    }
   ],
   "source": [
    "num = int(input(\"enter number= \"))\n",
    "count = 0\n",
    "i = 1\n",
    "while i<=num:\n",
    "    if num%i==0:\n",
    "        count = count+1\n",
    "    i = i+1\n",
    "    \n",
    "    \n",
    "if count==2:\n",
    "    print(\"prime number\")\n",
    "elif count>=2:\n",
    "    print(\"composit number\")\n",
    "else:\n",
    "    print(\"the number is nethier prime nor composit\")\n",
    "        \n"
   ]
  },
  {
   "cell_type": "code",
   "execution_count": 21,
   "id": "61ad1496",
   "metadata": {},
   "outputs": [
    {
     "name": "stdout",
     "output_type": "stream",
     "text": [
      "Enter the valur : 60\n",
      "do not match\n"
     ]
    }
   ],
   "source": [
    "n = int(input(\"Enter the valur : \"))\n",
    "if n == 50:\n",
    "    print(\"The given number is equal to 50\")\n",
    "elif n==40:\n",
    "    print(\"equal to 40\")\n",
    "elif n==90:\n",
    "    print(\"equal to 90\")\n",
    "else:\n",
    "    print(\"do not match\")"
   ]
  },
  {
   "cell_type": "code",
   "execution_count": 33,
   "id": "aab30a77",
   "metadata": {},
   "outputs": [
    {
     "name": "stdout",
     "output_type": "stream",
     "text": [
      "the list of square is [4, 16, 25, 36, 49, 64]\n"
     ]
    }
   ],
   "source": [
    "n = [2,4,5,6,7,8]\n",
    "s = 0\n",
    "S = []\n",
    "for i in n:\n",
    "    s = i**2\n",
    "    S.append(s)\n",
    "print(\"the list of square is\", S)\n",
    "\n"
   ]
  },
  {
   "cell_type": "code",
   "execution_count": null,
   "id": "554e9aa7",
   "metadata": {},
   "outputs": [],
   "source": []
  }
 ],
 "metadata": {
  "kernelspec": {
   "display_name": "Python 3 (ipykernel)",
   "language": "python",
   "name": "python3"
  },
  "language_info": {
   "codemirror_mode": {
    "name": "ipython",
    "version": 3
   },
   "file_extension": ".py",
   "mimetype": "text/x-python",
   "name": "python",
   "nbconvert_exporter": "python",
   "pygments_lexer": "ipython3",
   "version": "3.11.5"
  }
 },
 "nbformat": 4,
 "nbformat_minor": 5
}
