{
 "cells": [
  {
   "cell_type": "code",
   "execution_count": 1,
   "id": "cbc73795",
   "metadata": {},
   "outputs": [
    {
     "name": "stdout",
     "output_type": "stream",
     "text": [
      "Hello World\n"
     ]
    }
   ],
   "source": [
    "print(\"Hello World\")"
   ]
  },
  {
   "cell_type": "code",
   "execution_count": 2,
   "id": "1cff6795",
   "metadata": {},
   "outputs": [
    {
     "name": "stdout",
     "output_type": "stream",
     "text": [
      "<class 'str'>\n",
      "<class 'int'>\n",
      "<class 'float'>\n",
      "<class 'bool'>\n"
     ]
    }
   ],
   "source": [
    "# how to d=find the variable\n",
    "a = \"sunita\"\n",
    "b = 36\n",
    "c = 36.5\n",
    "d = True\n",
    "print(type(a))\n",
    "print(type(b))\n",
    "print(type(c))\n",
    "print(type(d))"
   ]
  },
  {
   "cell_type": "code",
   "execution_count": 2,
   "id": "c98a835c",
   "metadata": {},
   "outputs": [
    {
     "name": "stdout",
     "output_type": "stream",
     "text": [
      "my name isSunita.I am33The car cost me Rs550000\n"
     ]
    }
   ],
   "source": [
    "# specifying variables\n",
    "name = \"Sunita\"\n",
    "age = 33\n",
    "price = 550000\n",
    "print(\"my name is\"+ name +\".\"+ \"I am\" + str(age) +\"The car cost me Rs\"+ str(price))"
   ]
  },
  {
   "cell_type": "code",
   "execution_count": 8,
   "id": "e47a0566",
   "metadata": {},
   "outputs": [
    {
     "name": "stdout",
     "output_type": "stream",
     "text": [
      "ENter your name= sunita\n",
      "Welcome Sunita\n"
     ]
    }
   ],
   "source": [
    "input(\"ENter your name= \")\n",
    "print(\"Welcome\", name)"
   ]
  },
  {
   "cell_type": "code",
   "execution_count": 12,
   "id": "85918e5d",
   "metadata": {},
   "outputs": [
    {
     "name": "stdout",
     "output_type": "stream",
     "text": [
      "Enter first number =20\n",
      "Enter second number =50\n",
      "sum = 70\n"
     ]
    }
   ],
   "source": [
    "#wap to input 2 numbers and print their sum\n",
    "a = int(input('Enter first number ='))\n",
    "b = int(input('Enter second number ='))\n",
    "print(\"sum =\", a+b)"
   ]
  },
  {
   "cell_type": "code",
   "execution_count": 16,
   "id": "72a6887f",
   "metadata": {},
   "outputs": [
    {
     "name": "stdout",
     "output_type": "stream",
     "text": [
      "Enter square side =5\n",
      "area = 25.0\n",
      "area = 25.0\n"
     ]
    }
   ],
   "source": [
    "# wap to input sides of square and print its area.\n",
    "side = float(input('Enter square side ='))\n",
    "print(\"area =\", side**2)\n",
    "print(\"area =\", side*side)  #can use any "
   ]
  },
  {
   "cell_type": "code",
   "execution_count": 17,
   "id": "5d520966",
   "metadata": {},
   "outputs": [
    {
     "name": "stdout",
     "output_type": "stream",
     "text": [
      "Enter first number =50\n",
      "Enter second number =63.2\n",
      "average = 56.6\n"
     ]
    }
   ],
   "source": [
    "#wap to unput 2 foating number and print their average\n",
    "a = float(input(\"Enter first number =\"))\n",
    "b = float(input(\"Enter second number =\"))\n",
    "sum = a+b\n",
    "print(\"average =\", sum/2)"
   ]
  },
  {
   "cell_type": "code",
   "execution_count": 18,
   "id": "7d8e7fef",
   "metadata": {},
   "outputs": [
    {
     "name": "stdout",
     "output_type": "stream",
     "text": [
      "Enter first number =50\n",
      "Enter second number =60\n",
      "False\n"
     ]
    }
   ],
   "source": [
    "# wap to input 2 int numbers, a and b.print true if a is greater  than or equal to b.IF  not print false\n",
    "a = int(input('Enter first number ='))\n",
    "b = int(input('Enter second number ='))\n",
    "if a>=b:\n",
    "    print(\"True\")\n",
    "else:\n",
    "    print(\"False\")"
   ]
  },
  {
   "cell_type": "code",
   "execution_count": 19,
   "id": "d0787df9",
   "metadata": {},
   "outputs": [
    {
     "name": "stdout",
     "output_type": "stream",
     "text": [
      "Enter first number =20\n",
      "Enter second number =50\n",
      "False\n"
     ]
    }
   ],
   "source": [
    "a = int(input('Enter first number ='))\n",
    "b = int(input('Enter second number ='))\n",
    "print(a>=b)"
   ]
  },
  {
   "cell_type": "code",
   "execution_count": 6,
   "id": "25abd72d",
   "metadata": {},
   "outputs": [
    {
     "name": "stdout",
     "output_type": "stream",
     "text": [
      "Enter name = sunita\n",
      "length of my name is :  6\n"
     ]
    }
   ],
   "source": [
    "# Wap to find input users first name and its length\n",
    "name = input(\"Enter name = \")\n",
    "\n",
    "print(\"length of my name is : \", len(name))"
   ]
  },
  {
   "cell_type": "code",
   "execution_count": 11,
   "id": "ab27cdea",
   "metadata": {},
   "outputs": [
    {
     "name": "stdout",
     "output_type": "stream",
     "text": [
      "2\n"
     ]
    }
   ],
   "source": [
    "# wap to find occurance of $ in a string.\n",
    "name = \"I am studying python and $ and datascience$\"\n",
    "print(name.count(\"$\"))"
   ]
  },
  {
   "cell_type": "code",
   "execution_count": 16,
   "id": "9daf752d",
   "metadata": {},
   "outputs": [
    {
     "name": "stdout",
     "output_type": "stream",
     "text": [
      "odd number\n"
     ]
    }
   ],
   "source": [
    "# wap to check if the number is odd or even\n",
    "number = 15\n",
    "if (number % 2 == 0):\n",
    "    print(\"even number \")\n",
    "else:\n",
    "    print(\"odd number\")"
   ]
  },
  {
   "cell_type": "code",
   "execution_count": 23,
   "id": "0f7003a3",
   "metadata": {},
   "outputs": [
    {
     "name": "stdout",
     "output_type": "stream",
     "text": [
      "enter a =2\n",
      "enter b =5\n",
      "enter c =8\n",
      "c is the greatest : 8\n"
     ]
    }
   ],
   "source": [
    "#wap greatest of three number entered by user\n",
    "a = int(input(\"enter a =\"))\n",
    "b = int(input(\"enter b =\"))\n",
    "c = int(input(\"enter c =\"))\n",
    "if (a >= b and a>= c):\n",
    "    print(\"a is greatest :\", a)\n",
    "elif(b>=c):\n",
    "    print(\"b is greatest :\", b)\n",
    "else:\n",
    "    print(\"c is the greatest :\" ,c)"
   ]
  },
  {
   "cell_type": "code",
   "execution_count": 15,
   "id": "b66b45e7",
   "metadata": {},
   "outputs": [
    {
     "name": "stdout",
     "output_type": "stream",
     "text": [
      "Enter the number =14\n",
      "multiple of 7\n"
     ]
    }
   ],
   "source": [
    "# wap to check if the number is multipule of seven\n",
    "x = int(input(\"Enter the number =\"))\n",
    "if (x % 7 == 0):\n",
    "    print(\"multiple of 7\")\n",
    "else:\n",
    "    print(\"no multiple\")"
   ]
  },
  {
   "cell_type": "code",
   "execution_count": null,
   "id": "092ae103",
   "metadata": {},
   "outputs": [],
   "source": []
  }
 ],
 "metadata": {
  "kernelspec": {
   "display_name": "Python 3 (ipykernel)",
   "language": "python",
   "name": "python3"
  },
  "language_info": {
   "codemirror_mode": {
    "name": "ipython",
    "version": 3
   },
   "file_extension": ".py",
   "mimetype": "text/x-python",
   "name": "python",
   "nbconvert_exporter": "python",
   "pygments_lexer": "ipython3",
   "version": "3.11.5"
  }
 },
 "nbformat": 4,
 "nbformat_minor": 5
}
