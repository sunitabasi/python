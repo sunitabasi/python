{
 "cells": [
  {
   "cell_type": "code",
   "execution_count": null,
   "id": "8449f50d",
   "metadata": {},
   "outputs": [],
   "source": [
    "# dict"
   ]
  },
  {
   "cell_type": "code",
   "execution_count": 3,
   "id": "1b7cb101",
   "metadata": {},
   "outputs": [
    {
     "data": {
      "text/plain": [
       "{'name': 'John', 'age': 20, 'address': 'kathmandu'}"
      ]
     },
     "execution_count": 3,
     "metadata": {},
     "output_type": "execute_result"
    }
   ],
   "source": [
    "info = {'name':'John','age':20,'address':'kathmandu'}\n",
    "info"
   ]
  },
  {
   "cell_type": "code",
   "execution_count": 9,
   "id": "3234373c",
   "metadata": {},
   "outputs": [
    {
     "data": {
      "text/plain": [
       "{'name': 'John', 'age': 20, 'address': 'kathmandu', 'phone': 9843269777}"
      ]
     },
     "execution_count": 9,
     "metadata": {},
     "output_type": "execute_result"
    }
   ],
   "source": [
    "info = {'name':'John','age':20,'address':'kathmandu'}\n",
    "info['phone'] = 9843269777\n",
    "info"
   ]
  },
  {
   "cell_type": "code",
   "execution_count": 13,
   "id": "25b80e1c",
   "metadata": {},
   "outputs": [
    {
     "data": {
      "text/plain": [
       "{'name': 'Jina', 'age': 25, 'address': 'kathmandu', 'phone': 5555555}"
      ]
     },
     "execution_count": 13,
     "metadata": {},
     "output_type": "execute_result"
    }
   ],
   "source": [
    "info = {'name':'John','age':20,'address':'kathmandu'}\n",
    "info.update({'name':'Jina','age':25,'phone':5555555})\n",
    "info"
   ]
  },
  {
   "cell_type": "code",
   "execution_count": 16,
   "id": "cc615e04",
   "metadata": {},
   "outputs": [
    {
     "data": {
      "text/plain": [
       "{'age': 20, 'address': 'kathmandu'}"
      ]
     },
     "execution_count": 16,
     "metadata": {},
     "output_type": "execute_result"
    }
   ],
   "source": [
    "info = {'name':'John','age':20,'address':'kathmandu'}\n",
    "del info['name']\n",
    "info"
   ]
  },
  {
   "cell_type": "code",
   "execution_count": 17,
   "id": "7feacb07",
   "metadata": {},
   "outputs": [
    {
     "data": {
      "text/plain": [
       "{'name': 'John', 'address': 'kathmandu'}"
      ]
     },
     "execution_count": 17,
     "metadata": {},
     "output_type": "execute_result"
    }
   ],
   "source": [
    "info = {'name':'John','age':20,'address':'kathmandu'}\n",
    "age = info.pop('age')\n",
    "info"
   ]
  },
  {
   "cell_type": "code",
   "execution_count": 18,
   "id": "8a208097",
   "metadata": {},
   "outputs": [
    {
     "name": "stdout",
     "output_type": "stream",
     "text": [
      "3\n"
     ]
    }
   ],
   "source": [
    "info = {'name':'John','age':20,'address':'kathmandu'}\n",
    "print(len(info))"
   ]
  },
  {
   "cell_type": "code",
   "execution_count": 19,
   "id": "a35b5856",
   "metadata": {},
   "outputs": [
    {
     "name": "stdout",
     "output_type": "stream",
     "text": [
      "dict_keys(['name', 'age', 'address'])\n"
     ]
    }
   ],
   "source": [
    "info = {'name':'John','age':20,'address':'kathmandu'}\n",
    "print(info.keys())"
   ]
  },
  {
   "cell_type": "code",
   "execution_count": 20,
   "id": "596c2402",
   "metadata": {},
   "outputs": [
    {
     "name": "stdout",
     "output_type": "stream",
     "text": [
      "dict_values(['John', 20, 'kathmandu'])\n"
     ]
    }
   ],
   "source": [
    "info = {'name':'John','age':20,'address':'kathmandu'}\n",
    "print(info.values())"
   ]
  },
  {
   "cell_type": "code",
   "execution_count": 21,
   "id": "2125edc9",
   "metadata": {},
   "outputs": [
    {
     "name": "stdout",
     "output_type": "stream",
     "text": [
      "dict_items([('name', 'John'), ('age', 20), ('address', 'kathmandu')])\n"
     ]
    }
   ],
   "source": [
    "info = {'name':'John','age':20,'address':'kathmandu'}\n",
    "print(info.items())"
   ]
  },
  {
   "cell_type": "code",
   "execution_count": 23,
   "id": "f6772b43",
   "metadata": {},
   "outputs": [
    {
     "name": "stdout",
     "output_type": "stream",
     "text": [
      "name\n",
      "age\n",
      "address\n"
     ]
    }
   ],
   "source": [
    "info = {'name':'John','age':20,'address':'kathmandu'}\n",
    "for key in info:\n",
    "    print(key)\n",
    "    "
   ]
  },
  {
   "cell_type": "code",
   "execution_count": 26,
   "id": "46caf23e",
   "metadata": {},
   "outputs": [
    {
     "name": "stdout",
     "output_type": "stream",
     "text": [
      "('name', 'John')\n",
      "('age', 20)\n",
      "('address', 'kathmandu')\n"
     ]
    }
   ],
   "source": [
    "info = {'name':'John','age':20,'address':'kathmandu'}\n",
    "for key in info.items():\n",
    "    print(key)"
   ]
  },
  {
   "cell_type": "code",
   "execution_count": 46,
   "id": "3036b0c7",
   "metadata": {},
   "outputs": [
    {
     "name": "stdout",
     "output_type": "stream",
     "text": [
      "name sunita\n",
      "age 35\n",
      "location boudha\n"
     ]
    }
   ],
   "source": [
    "info = {'name':'sunita','age':35,'location':'boudha'}\n",
    "for key,values in info.items():\n",
    "    print(key,values)\n",
    "\n",
    "\n"
   ]
  },
  {
   "cell_type": "code",
   "execution_count": 31,
   "id": "178a8c05",
   "metadata": {},
   "outputs": [
    {
     "ename": "NameError",
     "evalue": "name 'couses' is not defined",
     "output_type": "error",
     "traceback": [
      "\u001b[1;31m---------------------------------------------------------------------------\u001b[0m",
      "\u001b[1;31mNameError\u001b[0m                                 Traceback (most recent call last)",
      "Cell \u001b[1;32mIn[31], line 4\u001b[0m\n\u001b[0;32m      1\u001b[0m \u001b[38;5;66;03m#list\u001b[39;00m\n\u001b[0;32m      3\u001b[0m courses \u001b[38;5;241m=\u001b[39m [\u001b[38;5;124m'\u001b[39m\u001b[38;5;124mArt\u001b[39m\u001b[38;5;124m'\u001b[39m,\u001b[38;5;124m'\u001b[39m\u001b[38;5;124mEducation\u001b[39m\u001b[38;5;124m'\u001b[39m,\u001b[38;5;124m'\u001b[39m\u001b[38;5;124mHIstory\u001b[39m\u001b[38;5;124m'\u001b[39m,\u001b[38;5;124m'\u001b[39m\u001b[38;5;124mPopulation\u001b[39m\u001b[38;5;124m'\u001b[39m]\n\u001b[1;32m----> 4\u001b[0m couses\u001b[38;5;241m.\u001b[39msort()\n\u001b[0;32m      7\u001b[0m \u001b[38;5;28mprint\u001b[39m(courses)\n",
      "\u001b[1;31mNameError\u001b[0m: name 'couses' is not defined"
     ]
    }
   ],
   "source": [
    "#list\n",
    "\n",
    "courses = ['Art','Education','HIstory','Population']\n",
    "couses.sort()\n",
    "\n",
    "\n",
    "print(courses)"
   ]
  },
  {
   "cell_type": "code",
   "execution_count": null,
   "id": "32fd43d3",
   "metadata": {},
   "outputs": [],
   "source": [
    "# list\n"
   ]
  }
 ],
 "metadata": {
  "kernelspec": {
   "display_name": "Python 3 (ipykernel)",
   "language": "python",
   "name": "python3"
  },
  "language_info": {
   "codemirror_mode": {
    "name": "ipython",
    "version": 3
   },
   "file_extension": ".py",
   "mimetype": "text/x-python",
   "name": "python",
   "nbconvert_exporter": "python",
   "pygments_lexer": "ipython3",
   "version": "3.11.5"
  }
 },
 "nbformat": 4,
 "nbformat_minor": 5
}
