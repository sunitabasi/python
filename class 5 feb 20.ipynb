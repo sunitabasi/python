{
 "cells": [
  {
   "cell_type": "code",
   "execution_count": 4,
   "id": "7844c902",
   "metadata": {},
   "outputs": [
    {
     "name": "stdout",
     "output_type": "stream",
     "text": [
      "False\n",
      "False\n",
      "False\n",
      "True\n"
     ]
    }
   ],
   "source": [
    "#logical operators\n",
    "#and & if 2 conditions are true\n",
    "\n",
    "print(True and False)\n",
    "print(False and True)\n",
    "print(False and False)\n",
    "print(True and True)\n"
   ]
  },
  {
   "cell_type": "code",
   "execution_count": 5,
   "id": "46a90912",
   "metadata": {},
   "outputs": [
    {
     "name": "stdout",
     "output_type": "stream",
     "text": [
      "True\n",
      "True\n",
      "False\n",
      "True\n"
     ]
    }
   ],
   "source": [
    "#or | 2 or more than 2 conditions if only onw condition is true\n",
    "print(True or False)\n",
    "print(False or True)\n",
    "print(False or False)\n",
    "print(True or True)"
   ]
  },
  {
   "cell_type": "code",
   "execution_count": 12,
   "id": "efbc7232",
   "metadata": {},
   "outputs": [
    {
     "name": "stdout",
     "output_type": "stream",
     "text": [
      "Enter a =10\n",
      "Enter b =0\n",
      "Enter + or - or * or / /\n",
      "The value of b can not be zero\n"
     ]
    }
   ],
   "source": [
    "a = int(input(\"Enter a =\"))\n",
    "b = int(input(\"Enter b =\"))\n",
    "o = input(\"Enter + or - or * or / \")\n",
    "if o == \"+\":\n",
    "    print(a+b)\n",
    "elif o == \"-\":\n",
    "    print(a-b)\n",
    "elif o ==\"/\" and b != 0:\n",
    "    print(a/b)\n",
    "elif o ==\"/\" and b == 0:\n",
    "    print(\"The value of b can not be zero\")\n",
    "\n",
    "elif o ==\"*\":\n",
    "    print(a*b)\n",
    "else:\n",
    "    print(\"Enter valid operators\")"
   ]
  },
  {
   "cell_type": "code",
   "execution_count": 1,
   "id": "b01e6afe",
   "metadata": {},
   "outputs": [
    {
     "name": "stdout",
     "output_type": "stream",
     "text": [
      "Enter marks =80\n",
      "Enter marks =50\n",
      "Enter marks =90\n",
      "Enter marks =50\n",
      "total= 270\n",
      "per= 67.5\n",
      "grade= B\n"
     ]
    }
   ],
   "source": [
    "physics = int(input(\"Enter marks =\"))\n",
    "math = int(input(\"Enter marks =\"))\n",
    "english = int(input(\"Enter marks =\"))\n",
    "chemistry = int(input(\"Enter marks =\"))\n",
    "\n",
    "total = physics + math + english + chemistry\n",
    "per = total/4\n",
    "    \n",
    "if per > 80 or per == 80:\n",
    "    grade = \"A\"\n",
    "elif per > 60 or per == 60:\n",
    "    grade = \"B\"\n",
    "elif per > 45 or per ==45:\n",
    "    grade = \"C\"\n",
    "else:\n",
    "    grade =\"F\"\n",
    "print(\"total=\", total)\n",
    "print(\"per=\", per)\n",
    "print(\"grade=\", grade)"
   ]
  },
  {
   "cell_type": "code",
   "execution_count": 6,
   "id": "738bdff1",
   "metadata": {},
   "outputs": [
    {
     "name": "stdout",
     "output_type": "stream",
     "text": [
      "Enter the value of a =-5\n",
      "The value of a is -ve and odd\n"
     ]
    }
   ],
   "source": [
    "a = int (input(\"Enter the value of a =\"))\n",
    "if a > 0 and a%2==0:\n",
    "    print(\"The value of a is +ve and even\")\n",
    "elif a > 0 and a%2!=0:\n",
    "    print(\"the value of a is +ve and odd\")\n",
    "elif a < 0 and a%2==0:\n",
    "    print(\"the value of a is -ve and even\")\n",
    "else:\n",
    "    print(\"The value of a is -ve and odd\")"
   ]
  },
  {
   "cell_type": "code",
   "execution_count": null,
   "id": "18da4d58",
   "metadata": {},
   "outputs": [],
   "source": [
    "# nested if/else"
   ]
  },
  {
   "cell_type": "code",
   "execution_count": 10,
   "id": "1e9c5f3f",
   "metadata": {},
   "outputs": [
    {
     "ename": "IndentationError",
     "evalue": "unindent does not match any outer indentation level (<tokenize>, line 9)",
     "output_type": "error",
     "traceback": [
      "\u001b[1;36m  File \u001b[1;32m<tokenize>:9\u001b[1;36m\u001b[0m\n\u001b[1;33m    else:\u001b[0m\n\u001b[1;37m    ^\u001b[0m\n\u001b[1;31mIndentationError\u001b[0m\u001b[1;31m:\u001b[0m unindent does not match any outer indentation level\n"
     ]
    }
   ],
   "source": [
    "if <condition>:\n",
    "    if <condition>:\n",
    "        <operations>\n",
    "    else:\n",
    "        <operations>\n",
    "else:\n",
    "     if <condition>:\n",
    "        <operations>\n",
    "    else:\n",
    "        <operations>"
   ]
  },
  {
   "cell_type": "code",
   "execution_count": 12,
   "id": "c963a39e",
   "metadata": {},
   "outputs": [
    {
     "ename": "IndentationError",
     "evalue": "unindent does not match any outer indentation level (<tokenize>, line 10)",
     "output_type": "error",
     "traceback": [
      "\u001b[1;36m  File \u001b[1;32m<tokenize>:10\u001b[1;36m\u001b[0m\n\u001b[1;33m    else:\u001b[0m\n\u001b[1;37m    ^\u001b[0m\n\u001b[1;31mIndentationError\u001b[0m\u001b[1;31m:\u001b[0m unindent does not match any outer indentation level\n"
     ]
    }
   ],
   "source": [
    "x = int(input(\"Enter x = \"))\n",
    "if x >= 0:\n",
    "    if x%2 == 0:\n",
    "        print(\"The value of x is +ve and even\")\n",
    "    else:\n",
    "        print(\"The value of x is +ve and odd\")\n",
    "else:\n",
    "     if x%2 != 0:\n",
    "        print(\"The value of x is -ve and even\")\n",
    "    else:\n",
    "         print(\"The value of x is -ve and odd\")"
   ]
  },
  {
   "cell_type": "code",
   "execution_count": 22,
   "id": "a8cf2820",
   "metadata": {},
   "outputs": [
    {
     "name": "stdout",
     "output_type": "stream",
     "text": [
      "Enter a =10\n",
      "Enter b =50\n",
      "Enter + or - or * or / /\n",
      "0.2\n"
     ]
    }
   ],
   "source": [
    "a = int(input(\"Enter a =\"))\n",
    "b = int(input(\"Enter b =\"))\n",
    "o = input(\"Enter + or - or * or / \")\n",
    "if o == \"+\":\n",
    "    print(a+b)\n",
    "elif o == \"-\":\n",
    "    print(a-b)\n",
    "elif o ==\"*\":\n",
    "    print(a*b)\n",
    "elif o ==\"/\":\n",
    "    if b != 0:\n",
    "        print(a/b)\n",
    "    else:\n",
    "        print(\"The value of b cannot be 0 while o =/\")\n",
    "\n",
    "else:\n",
    "    print(\"Enter valid operators\")"
   ]
  },
  {
   "cell_type": "code",
   "execution_count": 2,
   "id": "e3677c5a",
   "metadata": {},
   "outputs": [
    {
     "name": "stdout",
     "output_type": "stream",
     "text": [
      "Enter marks =50\n",
      "Enter marks =32\n",
      "Enter marks =20\n",
      "Enter marks =90\n",
      "F\n"
     ]
    }
   ],
   "source": [
    "physics = int(input(\"Enter marks =\"))\n",
    "math = int(input(\"Enter marks =\"))\n",
    "english = int(input(\"Enter marks =\"))\n",
    "chemistry = int(input(\"Enter marks =\"))\n",
    "if physics >=32 and chemistry >= 32 and english >=32 and chemistry >=32:\n",
    "    total = physics + math + english + chemistry\n",
    "    \n",
    "    per = total/4\n",
    "\n",
    "    \n",
    "    if per > 80 or per == 80:\n",
    "        grade = \"A\"\n",
    "    elif per > 60 or per == 60:\n",
    "        grade = \"B\"\n",
    "    elif per > 45 or per ==45:\n",
    "        grade = \"C\"\n",
    "    else:\n",
    "        grade =\"D\"\n",
    "\n",
    "\n",
    "    print(\"total=\", total)\n",
    "    print(\"per=\", per)\n",
    "    print(\"grade=\", grade)\n",
    "else:\n",
    "    print(\"F\")"
   ]
  },
  {
   "cell_type": "code",
   "execution_count": null,
   "id": "c898d5a3",
   "metadata": {},
   "outputs": [],
   "source": []
  }
 ],
 "metadata": {
  "kernelspec": {
   "display_name": "Python 3 (ipykernel)",
   "language": "python",
   "name": "python3"
  },
  "language_info": {
   "codemirror_mode": {
    "name": "ipython",
    "version": 3
   },
   "file_extension": ".py",
   "mimetype": "text/x-python",
   "name": "python",
   "nbconvert_exporter": "python",
   "pygments_lexer": "ipython3",
   "version": "3.11.5"
  }
 },
 "nbformat": 4,
 "nbformat_minor": 5
}
