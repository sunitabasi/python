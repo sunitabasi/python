{
 "cells": [
  {
   "cell_type": "code",
   "execution_count": 10,
   "id": "6f00b12a",
   "metadata": {},
   "outputs": [
    {
     "name": "stdout",
     "output_type": "stream",
     "text": [
      "Enter salary =50000\n",
      "Enter year of service =5\n",
      "bonus =  2500.0\n"
     ]
    }
   ],
   "source": [
    "a = int(input(\"Enter salary =\"))\n",
    "b = int(input(\"Enter year of service =\"))\n",
    "\n",
    "if b >= 5:\n",
    "    print(\"bonus = \",.05*a )\n",
    "else:\n",
    "    print(\"not eligible\")\n"
   ]
  },
  {
   "cell_type": "code",
   "execution_count": 13,
   "id": "7d964312",
   "metadata": {},
   "outputs": [
    {
     "name": "stdout",
     "output_type": "stream",
     "text": [
      "Enter the value of length =40\n",
      "Enter the valut of breath =40\n",
      "the rectangular is square\n"
     ]
    }
   ],
   "source": [
    "length = int(input(\"Enter the value of length =\"))\n",
    "breath = int(input(\"Enter the valut of breath =\"))\n",
    "if length == breath:\n",
    "    print(\"the rectangular is square\")\n",
    "else:\n",
    "    print(\"the rectangular is not square\")\n"
   ]
  },
  {
   "cell_type": "code",
   "execution_count": 2,
   "id": "43bd3f39",
   "metadata": {},
   "outputs": [
    {
     "name": "stdout",
     "output_type": "stream",
     "text": [
      "Enter the vlaue =5\n",
      "Enter the value =5\n",
      "both are equal\n"
     ]
    }
   ],
   "source": [
    "a = int(input(\"Enter the vlaue =\"))\n",
    "b = int\n",
    "if a>b:\n",
    "    print(\" a is greatest\")\n",
    "elif b>a:\n",
    "    print(\" b is greatest\")\n",
    "else:\n",
    "    print(\"both are equal\")\n",
    "    "
   ]
  },
  {
   "cell_type": "code",
   "execution_count": 4,
   "id": "dd255f6d",
   "metadata": {},
   "outputs": [
    {
     "ename": "SyntaxError",
     "evalue": "invalid syntax (189810817.py, line 11)",
     "output_type": "error",
     "traceback": [
      "\u001b[1;36m  Cell \u001b[1;32mIn[4], line 11\u001b[1;36m\u001b[0m\n\u001b[1;33m    elif percentage >=60 and <80:\u001b[0m\n\u001b[1;37m                             ^\u001b[0m\n\u001b[1;31mSyntaxError\u001b[0m\u001b[1;31m:\u001b[0m invalid syntax\n"
     ]
    }
   ],
   "source": [
    "math = int(input(\"Enter the marks\"))\n",
    "science = int(input(\"Enter the marks\"))\n",
    "economy = int(input(\"Enter the marks\"))\n",
    "history = int(input(\"Enter the marks\"))\n",
    "\n",
    "total = math + science + economy + history\n",
    "percentage = total/4\n",
    "\n",
    "if percentage >80:\n",
    "    print(\"grade A\")\n",
    "elif percentage >=60 and <80:\n",
    "    print(\"grade B\")\n",
    "elif percentage >=50 and <60:\n",
    "    print(\"grade C\")\n",
    "elif percentage >=45 and <50:\n",
    "    Print(\"grade D\")\n",
    "elif percentage >=25 and <45:\n",
    "    print(\"grade E\")\n",
    "else:\n",
    "    print(\"fail\")\n",
    "    \n",
    "print(\"total =\", total)\n",
    "print(\"percentage =\", percentage)"
   ]
  },
  {
   "cell_type": "code",
   "execution_count": 5,
   "id": "f477b773",
   "metadata": {},
   "outputs": [
    {
     "name": "stdout",
     "output_type": "stream",
     "text": [
      "31.0\n"
     ]
    }
   ],
   "source": [
    "a,b = 5,6.2\n",
    "c = a*b\n",
    "print(c)"
   ]
  },
  {
   "cell_type": "code",
   "execution_count": 6,
   "id": "4441433b",
   "metadata": {},
   "outputs": [
    {
     "name": "stdout",
     "output_type": "stream",
     "text": [
      "7.0\n"
     ]
    }
   ],
   "source": [
    "\"\"\"\"python jave \n",
    "filter remote return\"\"\"\n",
    "a,b = 7,9.6\n",
    "c = a%b\n",
    "print(c)"
   ]
  },
  {
   "cell_type": "code",
   "execution_count": 19,
   "id": "ba8f8eb6",
   "metadata": {},
   "outputs": [
    {
     "name": "stdout",
     "output_type": "stream",
     "text": [
      "my name is sunita I am 23\n"
     ]
    }
   ],
   "source": [
    "name = \"sunita\"\n",
    "age = 23\n",
    "location = \"Mulpani\"\n",
    "\n",
    "print(\"my name is \" +  str(name) + \" I am \" + str(age) )"
   ]
  },
  {
   "cell_type": "code",
   "execution_count": 23,
   "id": "5fd62c5c",
   "metadata": {},
   "outputs": [
    {
     "name": "stdout",
     "output_type": "stream",
     "text": [
      "name: dipen\n",
      "age : 35\n",
      "location: usa\n",
      "My name is dipen .I am  35 and I live in usa .\n"
     ]
    }
   ],
   "source": [
    "name = input(\"name: \")\n",
    "age = int(input(\"age : \"))\n",
    "location = input(\"location: \")\n",
    "print(\"My name is\",name,\".\" \"I am \", age, \"and \" \"I live in\", location,\".\")"
   ]
  },
  {
   "cell_type": "code",
   "execution_count": null,
   "id": "1ae427a7",
   "metadata": {},
   "outputs": [],
   "source": []
  }
 ],
 "metadata": {
  "kernelspec": {
   "display_name": "Python 3 (ipykernel)",
   "language": "python",
   "name": "python3"
  },
  "language_info": {
   "codemirror_mode": {
    "name": "ipython",
    "version": 3
   },
   "file_extension": ".py",
   "mimetype": "text/x-python",
   "name": "python",
   "nbconvert_exporter": "python",
   "pygments_lexer": "ipython3",
   "version": "3.11.5"
  }
 },
 "nbformat": 4,
 "nbformat_minor": 5
}
