{
 "cells": [
  {
   "cell_type": "code",
   "execution_count": null,
   "id": "4d46e065",
   "metadata": {},
   "outputs": [],
   "source": [
    "#for loop \n",
    "for eg: range(5)\n",
    "always start with 0\n",
    "condition<5\n",
    "increment 1\n",
    "#while loop"
   ]
  },
  {
   "cell_type": "code",
   "execution_count": null,
   "id": "34f87169",
   "metadata": {},
   "outputs": [],
   "source": [
    "# for loop\n",
    "range(5)       #0,1,2,3,4,\n",
    "range(1,5)     #1,2,3,4\n",
    "range(1,10,2)  #1,3,5,7,9 #increment by 2"
   ]
  },
  {
   "cell_type": "code",
   "execution_count": 10,
   "id": "0dfa9911",
   "metadata": {},
   "outputs": [
    {
     "name": "stdout",
     "output_type": "stream",
     "text": [
      "1 hello world\n",
      "3 hello world\n",
      "5 hello world\n",
      "7 hello world\n",
      "9 hello world\n"
     ]
    }
   ],
   "source": [
    "for i in range(1,10,2):\n",
    "    print(i, \"hello world\")"
   ]
  },
  {
   "cell_type": "code",
   "execution_count": 1,
   "id": "d2c13666",
   "metadata": {},
   "outputs": [],
   "source": [
    "for i in range(1,10,-3):\n",
    "    print(i, \"hello world\")"
   ]
  },
  {
   "cell_type": "code",
   "execution_count": 4,
   "id": "08203537",
   "metadata": {},
   "outputs": [
    {
     "name": "stdout",
     "output_type": "stream",
     "text": [
      "Enter n =1\n",
      "1 * 1 = 1\n",
      "1 * 2 = 2\n",
      "1 * 3 = 3\n",
      "1 * 4 = 4\n",
      "1 * 5 = 5\n",
      "1 * 6 = 6\n",
      "1 * 7 = 7\n",
      "1 * 8 = 8\n",
      "1 * 9 = 9\n",
      "1 * 10 = 10\n"
     ]
    }
   ],
   "source": [
    "# WAP create a multiplication table\n",
    "n = int(input(\"Enter n =\"))\n",
    "for i in range(1,11):\n",
    "    print(n,\"*\",i,\"=\",n*i)"
   ]
  },
  {
   "cell_type": "code",
   "execution_count": 5,
   "id": "5e31515e",
   "metadata": {},
   "outputs": [
    {
     "name": "stdout",
     "output_type": "stream",
     "text": [
      "Enter the value of x =20\n",
      "20\n",
      "Enter the value of x =30\n",
      "30\n",
      "Enter the value of x =50\n",
      "50\n",
      "Enter the value of x =60\n",
      "60\n",
      "Enter the value of x =60\n",
      "60\n"
     ]
    }
   ],
   "source": [
    "for i in range(5):\n",
    "    x = int(input(\"Enter the value of x =\"))\n",
    "    print(x)"
   ]
  },
  {
   "cell_type": "code",
   "execution_count": 2,
   "id": "17f46983",
   "metadata": {},
   "outputs": [
    {
     "name": "stdout",
     "output_type": "stream",
     "text": [
      "Enter n =3\n",
      "Enter x =5000\n",
      "Total 5000\n",
      "Enter x =6000\n",
      "Total 11000\n",
      "Enter x =4000\n",
      "Total 15000\n"
     ]
    }
   ],
   "source": [
    "s = 0\n",
    "n = int(input(\"Enter n =\"))\n",
    "for i in range(n):\n",
    "    x = int(input(\"Enter x =\"))\n",
    "    s = s + x\n",
    "    print(\"Total\",s) \n",
    "    "
   ]
  },
  {
   "cell_type": "code",
   "execution_count": 3,
   "id": "b86bfb74",
   "metadata": {},
   "outputs": [
    {
     "name": "stdout",
     "output_type": "stream",
     "text": [
      "Enter n =5\n",
      "Enter x =20\n",
      "Enter x =60\n",
      "Enter x =50\n",
      "Enter x =40\n",
      "Enter x =80\n",
      "sum = 250\n"
     ]
    }
   ],
   "source": [
    "s = 0\n",
    "n = int(input(\"Enter n =\"))\n",
    "for i in range(n):\n",
    "    x = int(input(\"Enter x =\"))\n",
    "    s = s + x\n",
    "print(\"sum =\",s)\n",
    "    "
   ]
  },
  {
   "cell_type": "code",
   "execution_count": 1,
   "id": "77ccee6e",
   "metadata": {},
   "outputs": [
    {
     "name": "stdout",
     "output_type": "stream",
     "text": [
      "Enter n =2\n",
      "Enter x =sunita\n",
      "Enter x =dipen\n",
      "sunita\n",
      "dipen\n",
      "\n"
     ]
    }
   ],
   "source": [
    "#s = str()\n",
    "s = \"\"\n",
    "n = int(input(\"Enter n =\"))\n",
    "for i in range(n):\n",
    "    x = (input(\"Enter x =\"))\n",
    "    s = s + x +\"\\n\" \n",
    "print(s)"
   ]
  },
  {
   "cell_type": "code",
   "execution_count": 8,
   "id": "6e778108",
   "metadata": {},
   "outputs": [
    {
     "name": "stdout",
     "output_type": "stream",
     "text": [
      "Enter n =2\n",
      "Enter name =su\n",
      "Enter mobile number =98\n",
      "Enter name =di\n",
      "Enter mobile number =98\n",
      "su 98\n",
      "di 98\n",
      "\n"
     ]
    }
   ],
   "source": [
    "s = \"\"\n",
    "n = int(input(\"Enter n =\"))\n",
    "for i in range(n):\n",
    "    x = input(\"Enter name =\")\n",
    "    y = input(\"Enter mobile number =\")\n",
    "    s = s + x + \" \" + y +\"\\n\" \n",
    "print(s)"
   ]
  },
  {
   "cell_type": "code",
   "execution_count": null,
   "id": "56f0db16",
   "metadata": {},
   "outputs": [],
   "source": [
    "# for loop in string"
   ]
  },
  {
   "cell_type": "code",
   "execution_count": 9,
   "id": "b997fd51",
   "metadata": {},
   "outputs": [
    {
     "name": "stdout",
     "output_type": "stream",
     "text": [
      "hello world"
     ]
    }
   ],
   "source": [
    "a = \"hello world\"\n",
    "for i in a:\n",
    "    print(i, end =\"\")\n",
    "    "
   ]
  },
  {
   "cell_type": "code",
   "execution_count": 11,
   "id": "8bba918e",
   "metadata": {},
   "outputs": [
    {
     "name": "stdout",
     "output_type": "stream",
     "text": [
      "H\n",
      "e\n",
      "l\n",
      "l\n",
      "o\n",
      " \n",
      "w\n",
      "o\n",
      "r\n",
      "l\n",
      "d\n"
     ]
    }
   ],
   "source": [
    "a = \"Hello world\"\n",
    "for i in a:\n",
    "    print(i)"
   ]
  },
  {
   "cell_type": "code",
   "execution_count": 13,
   "id": "3b6a4994",
   "metadata": {},
   "outputs": [
    {
     "name": "stdout",
     "output_type": "stream",
     "text": [
      "H Hi my name is sunita\n",
      "i Hi my name is sunita\n",
      "  Hi my name is sunita\n",
      "m Hi my name is sunita\n",
      "y Hi my name is sunita\n",
      "  Hi my name is sunita\n",
      "n Hi my name is sunita\n",
      "a Hi my name is sunita\n",
      "m Hi my name is sunita\n",
      "e Hi my name is sunita\n",
      "  Hi my name is sunita\n",
      "i Hi my name is sunita\n",
      "s Hi my name is sunita\n",
      "  Hi my name is sunita\n",
      "s Hi my name is sunita\n",
      "u Hi my name is sunita\n",
      "n Hi my name is sunita\n",
      "i Hi my name is sunita\n",
      "t Hi my name is sunita\n",
      "a Hi my name is sunita\n"
     ]
    }
   ],
   "source": [
    "a = \"Hi my name is sunita\"\n",
    "for i in a:\n",
    "    print(i, \"Hi my name is sunita\")"
   ]
  },
  {
   "cell_type": "code",
   "execution_count": 15,
   "id": "fa72effe",
   "metadata": {},
   "outputs": [
    {
     "name": "stdout",
     "output_type": "stream",
     "text": [
      "Hello World I am Python"
     ]
    }
   ],
   "source": [
    "a = \"Hello World! I am Python.\"\n",
    "for i in a:\n",
    "    if i != \".\" and i !=\"!\" :\n",
    "        print(i, end =\"\")"
   ]
  },
  {
   "cell_type": "code",
   "execution_count": 16,
   "id": "991c7b60",
   "metadata": {},
   "outputs": [
    {
     "name": "stdout",
     "output_type": "stream",
     "text": [
      "\n",
      "o\n",
      "oo\n",
      "ooo\n",
      "oooo\n"
     ]
    }
   ],
   "source": [
    "for i in range(5):\n",
    "    print(i*\"o\")\n"
   ]
  },
  {
   "cell_type": "code",
   "execution_count": 20,
   "id": "b1a9062c",
   "metadata": {},
   "outputs": [
    {
     "name": "stdout",
     "output_type": "stream",
     "text": [
      "           \n",
      "          o\n",
      "         ooo\n",
      "        ooooo\n",
      "       ooooooo\n",
      "      ooooooooo\n",
      "     ooooooooooo\n",
      "    ooooooooooooo\n",
      "   ooooooooooooooo\n",
      "  ooooooooooooooooo\n"
     ]
    }
   ],
   "source": [
    "space in \"\" determines the numbers\n",
    "n = 10\n",
    "for i in range(n):\n",
    "    print((n-i)*\" \", (2*i-1)*\"o\")"
   ]
  },
  {
   "cell_type": "code",
   "execution_count": 22,
   "id": "772af691",
   "metadata": {},
   "outputs": [
    {
     "name": "stdout",
     "output_type": "stream",
     "text": [
      "           \n",
      "          O\n",
      "         OOO\n",
      "        OOOOO\n",
      "       OOOOOOO\n",
      "      OOOOOOOOO\n",
      "     OOOOOOOOOOO\n",
      "    OOOOOOOOOOOOO\n",
      "   OOOOOOOOOOOOOOO\n",
      "  OOOOOOOOOOOOOOOOO\n",
      " ooooooooooooooooooo\n",
      "  ooooooooooooooooo\n",
      "   ooooooooooooooo\n",
      "    ooooooooooooo\n",
      "     ooooooooooo\n",
      "      ooooooooo\n",
      "       ooooooo\n",
      "        ooooo\n",
      "         ooo\n",
      "          o\n"
     ]
    }
   ],
   "source": [
    "n = 10\n",
    "for i in range(n):\n",
    "    print((n-i)*\" \",(2*i-1)*\"O\")\n",
    "for i in range(n,0,-1):\n",
    "    print((n-i)*\" \",(2*i-1)*\"o\")"
   ]
  },
  {
   "cell_type": "code",
   "execution_count": null,
   "id": "f679f388",
   "metadata": {},
   "outputs": [],
   "source": [
    "#control\n",
    "#break\n",
    "#continue\n",
    "#pass"
   ]
  },
  {
   "cell_type": "code",
   "execution_count": 25,
   "id": "2e3c5b4c",
   "metadata": {},
   "outputs": [
    {
     "name": "stdout",
     "output_type": "stream",
     "text": [
      "0\n",
      "1\n",
      "2\n",
      "3\n",
      "4\n"
     ]
    }
   ],
   "source": [
    "for i in range(10):\n",
    "    if i == 5:\n",
    "        break\n",
    "    print(i)"
   ]
  },
  {
   "cell_type": "code",
   "execution_count": 27,
   "id": "483a8cc7",
   "metadata": {},
   "outputs": [
    {
     "name": "stdout",
     "output_type": "stream",
     "text": [
      "0 1 2 3 4 6 7 8 9 "
     ]
    }
   ],
   "source": [
    "for i in range(10):\n",
    "    if i == 5:\n",
    "        continue\n",
    "    print(i, end =\" \")"
   ]
  },
  {
   "cell_type": "code",
   "execution_count": 28,
   "id": "7ddabe3c",
   "metadata": {},
   "outputs": [],
   "source": [
    "for i in range(5):\n",
    "    pass"
   ]
  },
  {
   "cell_type": "code",
   "execution_count": 31,
   "id": "b84730fc",
   "metadata": {},
   "outputs": [
    {
     "name": "stdout",
     "output_type": "stream",
     "text": [
      "Hello World"
     ]
    }
   ],
   "source": [
    "a = \"Hello World. I am python.\"\n",
    "for i in a:\n",
    "    if i == \".\":\n",
    "        break\n",
    "    print(i, end = \"\")"
   ]
  },
  {
   "cell_type": "code",
   "execution_count": 32,
   "id": "fed29806",
   "metadata": {},
   "outputs": [
    {
     "name": "stdout",
     "output_type": "stream",
     "text": [
      "Hello World I am sunita"
     ]
    }
   ],
   "source": [
    "a = \"Hello World. I am sunita.\"\n",
    "for i in a:\n",
    "    if i == \".\":\n",
    "        continue\n",
    "    print(i, end = \"\")\n",
    "        "
   ]
  },
  {
   "cell_type": "code",
   "execution_count": 40,
   "id": "a8d4298a",
   "metadata": {},
   "outputs": [
    {
     "name": "stdout",
     "output_type": "stream",
     "text": [
      "Enter = 5\n",
      "5\n",
      "10\n",
      "15\n",
      "20\n",
      "25\n",
      "30\n",
      "35\n",
      "40\n",
      "45\n",
      "50\n"
     ]
    }
   ],
   "source": [
    "n = int(input(\"Enter = \"))\n",
    "for i in range(1,n*11):\n",
    "    if i%n !=0:\n",
    "        continue\n",
    "    print(i)"
   ]
  },
  {
   "cell_type": "code",
   "execution_count": null,
   "id": "56e7aac6",
   "metadata": {},
   "outputs": [],
   "source": [
    "range(5)\n",
    "#start=0\n",
    "#condition<5\n",
    "#increment 1\n",
    "\n",
    "range(1,6)\n",
    "# start=1\n",
    "#condition<6\n",
    "#increment 1"
   ]
  },
  {
   "cell_type": "code",
   "execution_count": 41,
   "id": "c75fe7e0",
   "metadata": {},
   "outputs": [
    {
     "name": "stdout",
     "output_type": "stream",
     "text": [
      "0\n",
      "1\n",
      "2\n",
      "3\n",
      "4\n"
     ]
    }
   ],
   "source": [
    "\n",
    "for n in range(5):\n",
    "    print(n)"
   ]
  },
  {
   "cell_type": "code",
   "execution_count": 49,
   "id": "fcd63786",
   "metadata": {},
   "outputs": [
    {
     "name": "stdout",
     "output_type": "stream",
     "text": [
      "2* 1 = 2\n",
      "2* 2 = 4\n",
      "2* 3 = 6\n",
      "2* 4 = 8\n",
      "2* 5 = 10\n",
      "2* 6 = 12\n",
      "2* 7 = 14\n",
      "2* 8 = 16\n",
      "2* 9 = 18\n",
      "2* 10 = 20\n"
     ]
    }
   ],
   "source": [
    "for n in range(1,11):\n",
    "    print(\"2*\",n,\"=\",n*2)\n"
   ]
  },
  {
   "cell_type": "code",
   "execution_count": null,
   "id": "b2697ee3",
   "metadata": {},
   "outputs": [],
   "source": []
  }
 ],
 "metadata": {
  "kernelspec": {
   "display_name": "Python 3 (ipykernel)",
   "language": "python",
   "name": "python3"
  },
  "language_info": {
   "codemirror_mode": {
    "name": "ipython",
    "version": 3
   },
   "file_extension": ".py",
   "mimetype": "text/x-python",
   "name": "python",
   "nbconvert_exporter": "python",
   "pygments_lexer": "ipython3",
   "version": "3.11.5"
  }
 },
 "nbformat": 4,
 "nbformat_minor": 5
}
