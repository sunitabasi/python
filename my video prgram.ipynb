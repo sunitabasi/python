{
 "cells": [
  {
   "cell_type": "code",
   "execution_count": 1,
   "id": "dfd3224b",
   "metadata": {},
   "outputs": [
    {
     "name": "stdout",
     "output_type": "stream",
     "text": [
      "Hello World\n"
     ]
    }
   ],
   "source": [
    "print(\"Hello World\")"
   ]
  },
  {
   "cell_type": "code",
   "execution_count": 2,
   "id": "4b34e6ea",
   "metadata": {},
   "outputs": [
    {
     "name": "stdout",
     "output_type": "stream",
     "text": [
      "My name is Sunita\n",
      "I live in Kathmandu\n"
     ]
    }
   ],
   "source": [
    "a = \"My name is Sunita\"\n",
    "b = \"I live in Kathmandu\"\n",
    "print(a)\n",
    "print(b)"
   ]
  },
  {
   "cell_type": "code",
   "execution_count": 3,
   "id": "117bd875",
   "metadata": {},
   "outputs": [
    {
     "name": "stdout",
     "output_type": "stream",
     "text": [
      "My name is SunitaI live in Kathmandu\n"
     ]
    }
   ],
   "source": [
    "print(a+b)"
   ]
  },
  {
   "cell_type": "code",
   "execution_count": 4,
   "id": "2228d7c5",
   "metadata": {},
   "outputs": [
    {
     "name": "stdout",
     "output_type": "stream",
     "text": [
      "Enter name =sunita\n",
      "Enter age =33\n",
      "Enter price = 500000\n",
      "My name is sunita I am  33 I bought car which cost me 500000.0\n"
     ]
    }
   ],
   "source": [
    "name = input(\"Enter name =\")\n",
    "age = int(input(\"Enter age =\"))\n",
    "price = float(input(\"Enter price = \"))\n",
    "print(\"My name is\",name, \"I am \", age, \"I bought car which cost me\", price )"
   ]
  },
  {
   "cell_type": "code",
   "execution_count": null,
   "id": "7d15582a",
   "metadata": {},
   "outputs": [],
   "source": []
  }
 ],
 "metadata": {
  "kernelspec": {
   "display_name": "Python 3 (ipykernel)",
   "language": "python",
   "name": "python3"
  },
  "language_info": {
   "codemirror_mode": {
    "name": "ipython",
    "version": 3
   },
   "file_extension": ".py",
   "mimetype": "text/x-python",
   "name": "python",
   "nbconvert_exporter": "python",
   "pygments_lexer": "ipython3",
   "version": "3.11.5"
  }
 },
 "nbformat": 4,
 "nbformat_minor": 5
}
