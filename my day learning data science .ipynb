{
 "cells": [
  {
   "cell_type": "code",
   "execution_count": 10,
   "id": "38e08a53",
   "metadata": {},
   "outputs": [
    {
     "name": "stdout",
     "output_type": "stream",
     "text": [
      "Hello World\n"
     ]
    }
   ],
   "source": [
    "print(\"Hello World\")"
   ]
  },
  {
   "cell_type": "code",
   "execution_count": 11,
   "id": "ff8611ae",
   "metadata": {},
   "outputs": [
    {
     "name": "stdout",
     "output_type": "stream",
     "text": [
      "My name is python\n",
      "I am 2 years od\n"
     ]
    }
   ],
   "source": [
    "print(\"My name is python\")\n",
    "print(\"I am 2 years od\")"
   ]
  },
  {
   "cell_type": "code",
   "execution_count": 13,
   "id": "b3d95d0d",
   "metadata": {},
   "outputs": [
    {
     "name": "stdout",
     "output_type": "stream",
     "text": [
      "my name is python\n",
      "i am  4\n",
      "<class 'str'>\n",
      "<class 'int'>\n",
      "<class 'float'>\n",
      "<class 'bool'>\n"
     ]
    }
   ],
   "source": [
    "# assigning values to variables\n",
    "name = \"python\"\n",
    "age  = 4\n",
    "price = 45.7\n",
    "oldprice = True\n",
    "print(\"my name is\", name)\n",
    "print(\"i am \", age)\n",
    "\n",
    "# defining data types\n",
    "print(type(name))\n",
    "print(type(age))\n",
    "print(type(price))\n",
    "print(type(oldprice))"
   ]
  },
  {
   "cell_type": "code",
   "execution_count": null,
   "id": "f0078b78",
   "metadata": {
    "scrolled": true
   },
   "outputs": [],
   "source": [
    "# video 2"
   ]
  },
  {
   "cell_type": "code",
   "execution_count": 1,
   "id": "d644938e",
   "metadata": {},
   "outputs": [
    {
     "name": "stdout",
     "output_type": "stream",
     "text": [
      "60\n",
      "-40\n",
      "500\n",
      "0.2\n",
      "100000000000000000000000000000000000000000000000000\n",
      "0\n"
     ]
    }
   ],
   "source": [
    "# arithemetic operatiors\n",
    "a = 10\n",
    "b = 50\n",
    "print(a+b)\n",
    "print(a-b)\n",
    "print(a*b)\n",
    "print(a/b)\n",
    "print(a**b)\n",
    "print(a//b)"
   ]
  },
  {
   "cell_type": "code",
   "execution_count": 2,
   "id": "b2eb4b15",
   "metadata": {},
   "outputs": [
    {
     "name": "stdout",
     "output_type": "stream",
     "text": [
      "HelloWorld\n"
     ]
    }
   ],
   "source": [
    "# string concetination\n",
    "a = \"Hello\"\n",
    "b = \"World\"\n",
    "c = a+b\n",
    "print(c)"
   ]
  },
  {
   "cell_type": "code",
   "execution_count": 3,
   "id": "0a904c44",
   "metadata": {},
   "outputs": [
    {
     "name": "stdout",
     "output_type": "stream",
     "text": [
      "hello world\n",
      "hello world\n",
      "\n"
     ]
    }
   ],
   "source": [
    "a = \"hello world\\n\"\n",
    "print(a*2)"
   ]
  },
  {
   "cell_type": "code",
   "execution_count": 11,
   "id": "25b2fa86",
   "metadata": {},
   "outputs": [
    {
     "name": "stdout",
     "output_type": "stream",
     "text": [
      "enter name =python\n",
      "enter age =5\n",
      "enter location = kathmandu\n",
      "My name is pythonI am 5years old and  I live in kathmandu\n"
     ]
    }
   ],
   "source": [
    "# inputs in python\n",
    "name = input(\"enter name =\")\n",
    "age = int(input(\"enter age =\"))\n",
    "location = input(\"enter location = \")\n",
    "info = (\"My name is \" + name + \"I am \" + str(age) + \"years old and \" + \" I live in \" + location)   # converting int to str\n",
    "print(info)"
   ]
  },
  {
   "cell_type": "code",
   "execution_count": null,
   "id": "6d2ce475",
   "metadata": {},
   "outputs": [
    {
     "name": "stdout",
     "output_type": "stream",
     "text": [
      "Enter name =python\n"
     ]
    }
   ],
   "source": [
    "# inputs on python\n",
    "name = input(\"Enter name =\")\n",
    "age = int(input(\"Enter name=  \"))\n",
    "address = input(\"Enter address = \")\n",
    "info = (\"MY name is \" + name + \"I am \"+ str(age), \"years old and \" + \"I live in \" + address)\n",
    "info\n"
   ]
  },
  {
   "cell_type": "code",
   "execution_count": null,
   "id": "ffb68954",
   "metadata": {},
   "outputs": [],
   "source": [
    " \n"
   ]
  },
  {
   "cell_type": "code",
   "execution_count": null,
   "id": "394827a9",
   "metadata": {},
   "outputs": [],
   "source": []
  },
  {
   "cell_type": "code",
   "execution_count": null,
   "id": "89ad12e0",
   "metadata": {},
   "outputs": [],
   "source": [
    "\n"
   ]
  },
  {
   "cell_type": "code",
   "execution_count": null,
   "id": "06bfeb0c",
   "metadata": {},
   "outputs": [],
   "source": []
  },
  {
   "cell_type": "code",
   "execution_count": null,
   "id": "4a926d34",
   "metadata": {},
   "outputs": [],
   "source": []
  }
 ],
 "metadata": {
  "kernelspec": {
   "display_name": "Python 3 (ipykernel)",
   "language": "python",
   "name": "python3"
  },
  "language_info": {
   "codemirror_mode": {
    "name": "ipython",
    "version": 3
   },
   "file_extension": ".py",
   "mimetype": "text/x-python",
   "name": "python",
   "nbconvert_exporter": "python",
   "pygments_lexer": "ipython3",
   "version": "3.11.5"
  }
 },
 "nbformat": 4,
 "nbformat_minor": 5
}
